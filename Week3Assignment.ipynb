{
  "nbformat": 4,
  "nbformat_minor": 0,
  "metadata": {
    "colab": {
      "name": "Week3Assignment",
      "provenance": []
    },
    "kernelspec": {
      "name": "python3",
      "display_name": "Python 3"
    }
  },
  "cells": [
    {
      "cell_type": "markdown",
      "metadata": {
        "id": "7pS3uTVUm5Al",
        "colab_type": "text"
      },
      "source": [
        "Business case and value\n",
        "\n",
        "The data in the dataset is from a real Czech bank from 1999. The data is about clients and their accounts and has relations account, client, disposiiton, permanent order, transaction, loan, credit card and demographic data. The Relation 'loan' and 'credit card' describe some services which bank offers to its clients. More credit cards can be issued to an account but atmost one loan can be granted for an account.\n",
        "\n",
        "The business objective is to analyze the transactional behavior of the customers and predict the loan risk status for the same customers.This is useful in cases where credit card companies provide pre-approved loans for customers based on their payment and other factors. Therefore, we can predict customers who pay regulary and who do not.\n",
        "\n",
        "To acheive this, the below mentioned steps are followed:\n",
        "\n",
        "Data Preparation\n",
        "\n",
        "Regression\n",
        "\n",
        "Clustering\n",
        "\n"
      ]
    },
    {
      "cell_type": "markdown",
      "metadata": {
        "id": "DIH-kAAjnJtV",
        "colab_type": "text"
      },
      "source": [
        "Data Narration\n",
        "\n",
        "trans.csv - Transaction details of the client\n",
        "\n",
        "trans_id - record identifier\n",
        "\n",
        "account_id - account the transaction deals with\n",
        "\n",
        "date - date of transaction: in the form YYMMDD\n",
        "\n",
        "type +/- transaction: \"PRIJEM\" stands for credit \"VYDAJ\" stands for withdrawal\n",
        "\n",
        "operation - mode of transaction: \"VYBER KARTOU\" credit card \n",
        "withdrawal \"VKLAD\" credit in cash \"PREVOD Z UCTU\" collection from another bank \"VYBER\" withdrawal in cash \"PREVOD NA UCET\" remittance to another bank\n",
        "\n",
        "amount - amount of money\n",
        "\n",
        "balance - balance after transaction\n",
        "\n",
        "k_symbol - characterization of the transaction: \"POJISTNE\" \n",
        "\n",
        "insurance payment \"SLUZBY\" payment for statement \"UROK\"\n",
        " interest credited \"SANKC. UROK\" sanction interest if negative balance \"SIPO\" household \"DUCHOD\" old-age pension \"UVER\" loan payment\n",
        "\n",
        "bank - bank of the partner: each bank has unique two-letter code\n",
        "\n",
        "account - account of the partner"
      ]
    },
    {
      "cell_type": "markdown",
      "metadata": {
        "id": "TrfWJOOhqra5",
        "colab_type": "text"
      },
      "source": [
        "\n",
        "loan.csv - Loan details\n",
        "\n",
        "loan_id - record identifier\n",
        "\n",
        "account_id - identification of the account\n",
        "\n",
        "date - date when the loan was granted: in the form YYMMDD\n",
        "\n",
        "amount - amount of money\n",
        "\n",
        "duration - duration of the loan\n",
        "\n",
        "payments - monthly payments\n",
        "\n",
        "status - status of paying off the loan: \n",
        "\n",
        "    'A' stands for contract finished, no problems, \n",
        "\n",
        "    'B' stands for contract finished, loan not payed, \n",
        "\n",
        "    'C' stands for running contract, OK so far,\n",
        "    \n",
        "    'D' stands for running contract, client in debt\n",
        "\n",
        "\n"
      ]
    },
    {
      "cell_type": "code",
      "metadata": {
        "id": "1tdQO0_YLqsM",
        "colab_type": "code",
        "colab": {}
      },
      "source": [
        "import numpy as np\n",
        "import matplotlib.pyplot as plt\n",
        "import pandas as pd\n",
        "import pydotplus\n",
        "import collections\n",
        "import seaborn as sns\n",
        "from sklearn import tree\n",
        "from sklearn.metrics import accuracy_score\n",
        "from IPython.display import Image\n",
        "\n",
        "\n",
        "#from google.colab import files\n",
        "#uploaded = files.upload()\n",
        "\n"
      ],
      "execution_count": 130,
      "outputs": []
    },
    {
      "cell_type": "code",
      "metadata": {
        "id": "jsHirstpW8hK",
        "colab_type": "code",
        "colab": {
          "base_uri": "https://localhost:8080/",
          "height": 71
        },
        "outputId": "80a6bb38-f1b9-4b3f-aa4b-bd8b0fb7a014"
      },
      "source": [
        "trans_d = pd.read_csv(\"trans.csv\")\n",
        "loan_d = pd.read_csv(\"loan_csv.csv\")\n",
        "#account_d = pd.read_csv(\"account_csv.csv\")\n",
        "#client_d = pd.read_csv(\"client.csv\")\n",
        "#disp_d = pd.read_csv(\"disp.csv\")\n",
        "#loan_d.head()"
      ],
      "execution_count": 131,
      "outputs": [
        {
          "output_type": "stream",
          "text": [
            "/usr/local/lib/python3.6/dist-packages/IPython/core/interactiveshell.py:2718: DtypeWarning: Columns (8) have mixed types.Specify dtype option on import or set low_memory=False.\n",
            "  interactivity=interactivity, compiler=compiler, result=result)\n"
          ],
          "name": "stderr"
        }
      ]
    },
    {
      "cell_type": "code",
      "metadata": {
        "id": "ELqZrLLeQa2R",
        "colab_type": "code",
        "colab": {
          "base_uri": "https://localhost:8080/",
          "height": 103
        },
        "outputId": "a477da04-6c08-40d8-a091-d8e659c54414"
      },
      "source": [
        "'''_column_date = []\n",
        "_column_frequency = []\n",
        "_column_district = []\n",
        "_column_clientdob =[]\n",
        "for c in loan_d['account_id']:\n",
        "    _result = account_d.loc[account_d['account_id'] == c]\n",
        "    _column_date.append(_result['date'].iloc[0])\n",
        "    _column_frequency.append(_result['frequency'].iloc[0])\n",
        "    _column_district.append(_result['district_id'].iloc[0])\n",
        "    _result = disp_d.loc[disp_d['account_id'] == c]\n",
        "    _result = client_d.loc[client_d['client_id'] == _result['client_id'].iloc[0]]\n",
        "    _column_clientdob.append(_result['birth_number'].iloc[0])\n",
        "    #print(_result)'''"
      ],
      "execution_count": null,
      "outputs": [
        {
          "output_type": "execute_result",
          "data": {
            "application/vnd.google.colaboratory.intrinsic+json": {
              "type": "string"
            },
            "text/plain": [
              "\"_column_date = []\\n_column_frequency = []\\n_column_district = []\\n_column_clientdob =[]\\nfor c in loan_d['account_id']:\\n    _result = account_d.loc[account_d['account_id'] == c]\\n    _column_date.append(_result['date'].iloc[0])\\n    _column_frequency.append(_result['frequency'].iloc[0])\\n    _column_district.append(_result['district_id'].iloc[0])\\n    _result = disp_d.loc[disp_d['account_id'] == c]\\n    _result = client_d.loc[client_d['client_id'] == _result['client_id'].iloc[0]]\\n    _column_clientdob.append(_result['birth_number'].iloc[0])\\n    #print(_result)\""
            ]
          },
          "metadata": {
            "tags": []
          },
          "execution_count": 100
        }
      ]
    },
    {
      "cell_type": "code",
      "metadata": {
        "id": "qXIknlwepVqJ",
        "colab_type": "code",
        "colab": {
          "base_uri": "https://localhost:8080/",
          "height": 204
        },
        "outputId": "b86882f6-29a8-4303-eadc-a23f0eb5e259"
      },
      "source": [
        "'''loan_d['account_date'] = _column_date\n",
        "loan_d['account_loginfrequency'] = _column_frequency\n",
        "loan_d['account_district'] = _column_district\n",
        "loan_d['client_birthNumber'] = _column_clientdob'''\n",
        "loan_d.head()"
      ],
      "execution_count": 132,
      "outputs": [
        {
          "output_type": "execute_result",
          "data": {
            "text/html": [
              "<div>\n",
              "<style scoped>\n",
              "    .dataframe tbody tr th:only-of-type {\n",
              "        vertical-align: middle;\n",
              "    }\n",
              "\n",
              "    .dataframe tbody tr th {\n",
              "        vertical-align: top;\n",
              "    }\n",
              "\n",
              "    .dataframe thead th {\n",
              "        text-align: right;\n",
              "    }\n",
              "</style>\n",
              "<table border=\"1\" class=\"dataframe\">\n",
              "  <thead>\n",
              "    <tr style=\"text-align: right;\">\n",
              "      <th></th>\n",
              "      <th>loan_id</th>\n",
              "      <th>account_id</th>\n",
              "      <th>date</th>\n",
              "      <th>amount</th>\n",
              "      <th>duration</th>\n",
              "      <th>payments</th>\n",
              "      <th>status</th>\n",
              "    </tr>\n",
              "  </thead>\n",
              "  <tbody>\n",
              "    <tr>\n",
              "      <th>0</th>\n",
              "      <td>5314</td>\n",
              "      <td>1787</td>\n",
              "      <td>930705</td>\n",
              "      <td>96396</td>\n",
              "      <td>12</td>\n",
              "      <td>8033.0</td>\n",
              "      <td>B</td>\n",
              "    </tr>\n",
              "    <tr>\n",
              "      <th>1</th>\n",
              "      <td>5316</td>\n",
              "      <td>1801</td>\n",
              "      <td>930711</td>\n",
              "      <td>165960</td>\n",
              "      <td>36</td>\n",
              "      <td>4610.0</td>\n",
              "      <td>A</td>\n",
              "    </tr>\n",
              "    <tr>\n",
              "      <th>2</th>\n",
              "      <td>6863</td>\n",
              "      <td>9188</td>\n",
              "      <td>930728</td>\n",
              "      <td>127080</td>\n",
              "      <td>60</td>\n",
              "      <td>2118.0</td>\n",
              "      <td>A</td>\n",
              "    </tr>\n",
              "    <tr>\n",
              "      <th>3</th>\n",
              "      <td>5325</td>\n",
              "      <td>1843</td>\n",
              "      <td>930803</td>\n",
              "      <td>105804</td>\n",
              "      <td>36</td>\n",
              "      <td>2939.0</td>\n",
              "      <td>A</td>\n",
              "    </tr>\n",
              "    <tr>\n",
              "      <th>4</th>\n",
              "      <td>7240</td>\n",
              "      <td>11013</td>\n",
              "      <td>930906</td>\n",
              "      <td>274740</td>\n",
              "      <td>60</td>\n",
              "      <td>4579.0</td>\n",
              "      <td>A</td>\n",
              "    </tr>\n",
              "  </tbody>\n",
              "</table>\n",
              "</div>"
            ],
            "text/plain": [
              "   loan_id  account_id    date  amount  duration  payments status\n",
              "0     5314        1787  930705   96396        12    8033.0      B\n",
              "1     5316        1801  930711  165960        36    4610.0      A\n",
              "2     6863        9188  930728  127080        60    2118.0      A\n",
              "3     5325        1843  930803  105804        36    2939.0      A\n",
              "4     7240       11013  930906  274740        60    4579.0      A"
            ]
          },
          "metadata": {
            "tags": []
          },
          "execution_count": 132
        }
      ]
    },
    {
      "cell_type": "code",
      "metadata": {
        "id": "V81FMYz5pr8v",
        "colab_type": "code",
        "colab": {
          "base_uri": "https://localhost:8080/",
          "height": 170
        },
        "outputId": "242ed295-72f3-4a7b-ac91-2625176b7c91"
      },
      "source": [
        "missing = loan_d.isna().sum()\n",
        "print(missing)\n",
        "\n",
        "_statusUnique = list(loan_d['status'].unique())\n",
        "#_freqUnique = list(loan_d['account_loginfrequency'].unique())\n",
        "print('Unique values in status :{}'.format(_statusUnique))\n",
        "#print('Unique values in account login frequency :{}'.format(_freqUnique))"
      ],
      "execution_count": 133,
      "outputs": [
        {
          "output_type": "stream",
          "text": [
            "loan_id       0\n",
            "account_id    0\n",
            "date          0\n",
            "amount        0\n",
            "duration      0\n",
            "payments      0\n",
            "status        0\n",
            "dtype: int64\n",
            "Unique values in status :['B', 'A', 'C', 'D']\n"
          ],
          "name": "stdout"
        }
      ]
    },
    {
      "cell_type": "code",
      "metadata": {
        "id": "RPhZNrs1ra7S",
        "colab_type": "code",
        "colab": {
          "base_uri": "https://localhost:8080/",
          "height": 85
        },
        "outputId": "46ce9895-cd0d-4543-e753-a10aca50202b"
      },
      "source": [
        "_dict_status = {'A' : 1 , 'B' : 2 ,'C' : 3 ,'D' : 4}\n",
        "for x in _dict_status.values():\n",
        "  print(x)\n",
        "List_values = []\n",
        "for item in loan_d['status']:\n",
        "  st = _dict_status.get(item)\n",
        "  List_values.append(st)\n",
        "  #print(loan_d['status'])\n",
        "  #print(\"{} is {}\".format(item ,st))\n",
        "  \n"
      ],
      "execution_count": 134,
      "outputs": [
        {
          "output_type": "stream",
          "text": [
            "1\n",
            "2\n",
            "3\n",
            "4\n"
          ],
          "name": "stdout"
        }
      ]
    },
    {
      "cell_type": "code",
      "metadata": {
        "id": "U5e32YcH4doQ",
        "colab_type": "code",
        "colab": {}
      },
      "source": [
        "loan_d['status'] = List_values"
      ],
      "execution_count": 135,
      "outputs": []
    },
    {
      "cell_type": "code",
      "metadata": {
        "id": "hG88ptD624Kz",
        "colab_type": "code",
        "colab": {
          "base_uri": "https://localhost:8080/",
          "height": 204
        },
        "outputId": "457784c6-d220-4c55-81f2-96affbe89855"
      },
      "source": [
        "loan_d.head()"
      ],
      "execution_count": 136,
      "outputs": [
        {
          "output_type": "execute_result",
          "data": {
            "text/html": [
              "<div>\n",
              "<style scoped>\n",
              "    .dataframe tbody tr th:only-of-type {\n",
              "        vertical-align: middle;\n",
              "    }\n",
              "\n",
              "    .dataframe tbody tr th {\n",
              "        vertical-align: top;\n",
              "    }\n",
              "\n",
              "    .dataframe thead th {\n",
              "        text-align: right;\n",
              "    }\n",
              "</style>\n",
              "<table border=\"1\" class=\"dataframe\">\n",
              "  <thead>\n",
              "    <tr style=\"text-align: right;\">\n",
              "      <th></th>\n",
              "      <th>loan_id</th>\n",
              "      <th>account_id</th>\n",
              "      <th>date</th>\n",
              "      <th>amount</th>\n",
              "      <th>duration</th>\n",
              "      <th>payments</th>\n",
              "      <th>status</th>\n",
              "    </tr>\n",
              "  </thead>\n",
              "  <tbody>\n",
              "    <tr>\n",
              "      <th>0</th>\n",
              "      <td>5314</td>\n",
              "      <td>1787</td>\n",
              "      <td>930705</td>\n",
              "      <td>96396</td>\n",
              "      <td>12</td>\n",
              "      <td>8033.0</td>\n",
              "      <td>2</td>\n",
              "    </tr>\n",
              "    <tr>\n",
              "      <th>1</th>\n",
              "      <td>5316</td>\n",
              "      <td>1801</td>\n",
              "      <td>930711</td>\n",
              "      <td>165960</td>\n",
              "      <td>36</td>\n",
              "      <td>4610.0</td>\n",
              "      <td>1</td>\n",
              "    </tr>\n",
              "    <tr>\n",
              "      <th>2</th>\n",
              "      <td>6863</td>\n",
              "      <td>9188</td>\n",
              "      <td>930728</td>\n",
              "      <td>127080</td>\n",
              "      <td>60</td>\n",
              "      <td>2118.0</td>\n",
              "      <td>1</td>\n",
              "    </tr>\n",
              "    <tr>\n",
              "      <th>3</th>\n",
              "      <td>5325</td>\n",
              "      <td>1843</td>\n",
              "      <td>930803</td>\n",
              "      <td>105804</td>\n",
              "      <td>36</td>\n",
              "      <td>2939.0</td>\n",
              "      <td>1</td>\n",
              "    </tr>\n",
              "    <tr>\n",
              "      <th>4</th>\n",
              "      <td>7240</td>\n",
              "      <td>11013</td>\n",
              "      <td>930906</td>\n",
              "      <td>274740</td>\n",
              "      <td>60</td>\n",
              "      <td>4579.0</td>\n",
              "      <td>1</td>\n",
              "    </tr>\n",
              "  </tbody>\n",
              "</table>\n",
              "</div>"
            ],
            "text/plain": [
              "   loan_id  account_id    date  amount  duration  payments  status\n",
              "0     5314        1787  930705   96396        12    8033.0       2\n",
              "1     5316        1801  930711  165960        36    4610.0       1\n",
              "2     6863        9188  930728  127080        60    2118.0       1\n",
              "3     5325        1843  930803  105804        36    2939.0       1\n",
              "4     7240       11013  930906  274740        60    4579.0       1"
            ]
          },
          "metadata": {
            "tags": []
          },
          "execution_count": 136
        }
      ]
    },
    {
      "cell_type": "markdown",
      "metadata": {
        "id": "U6Pc5s-Mn5TT",
        "colab_type": "text"
      },
      "source": [
        "**Linear Regression**\n",
        "\n",
        "With Linear Regression, Predicting the laon amount based on the loan duration and monthly paymenta.Loan amount is dependent variable.Loan duration and monthly payments are dependent variables.\n"
      ]
    },
    {
      "cell_type": "code",
      "metadata": {
        "id": "hrJhrqN6n4wR",
        "colab_type": "code",
        "colab": {
          "base_uri": "https://localhost:8080/",
          "height": 221
        },
        "outputId": "55ece11e-fcbe-4056-e3ec-d953615d26ac"
      },
      "source": [
        "from sklearn.model_selection import train_test_split\n",
        "from sklearn.linear_model import LinearRegression\n",
        "import matplotlib.pyplot as plt\n",
        "\n",
        "loan_lin = loan_d\n",
        "#loan_lin.head()\n",
        "\n",
        "cols = list(loan_lin.columns)\n",
        "cols.remove('loan_id')\n",
        "cols.remove('account_id')\n",
        "cols.remove('amount')\n",
        "cols.remove('status')\n",
        "cols.remove('date')\n",
        "loan_lin.head()\n",
        "\n",
        "X = loan_lin[cols].iloc[ :, 0:].values\n",
        "Y = loan_lin['amount']\n",
        "Y\n",
        "\n"
      ],
      "execution_count": 137,
      "outputs": [
        {
          "output_type": "execute_result",
          "data": {
            "text/plain": [
              "0       96396\n",
              "1      165960\n",
              "2      127080\n",
              "3      105804\n",
              "4      274740\n",
              "        ...  \n",
              "677    352704\n",
              "678     52512\n",
              "679    139488\n",
              "680     55632\n",
              "681    240900\n",
              "Name: amount, Length: 682, dtype: int64"
            ]
          },
          "metadata": {
            "tags": []
          },
          "execution_count": 137
        }
      ]
    },
    {
      "cell_type": "code",
      "metadata": {
        "id": "NltP5mJqFFXz",
        "colab_type": "code",
        "colab": {}
      },
      "source": [
        "X_train, X_test, Y_train, Y_test = train_test_split(X, Y, test_size = 1/3, random_state = 0)\n",
        "X_test"
      ],
      "execution_count": null,
      "outputs": []
    },
    {
      "cell_type": "code",
      "metadata": {
        "id": "LgEsPULzHE9t",
        "colab_type": "code",
        "colab": {}
      },
      "source": [
        "np.savetxt(\"testdata.csv\", X_test, delimiter=\",\")"
      ],
      "execution_count": 51,
      "outputs": []
    },
    {
      "cell_type": "code",
      "metadata": {
        "id": "JNZisUdJHVTI",
        "colab_type": "code",
        "colab": {}
      },
      "source": [
        "np.savetxt(\"traineddata.csv\", X_train, delimiter=\",\")"
      ],
      "execution_count": 52,
      "outputs": []
    },
    {
      "cell_type": "code",
      "metadata": {
        "id": "tmJJTPFDqTrC",
        "colab_type": "code",
        "colab": {}
      },
      "source": [
        "\n",
        "regr = LinearRegression(normalize=True)\n",
        "regr.fit(X_train, Y_train)\n",
        "Y_pred = regr.predict(X_test)\n",
        "Y_pred"
      ],
      "execution_count": null,
      "outputs": []
    },
    {
      "cell_type": "code",
      "metadata": {
        "id": "EImNqKVSrRj2",
        "colab_type": "code",
        "colab": {
          "base_uri": "https://localhost:8080/",
          "height": 34
        },
        "outputId": "ef331c3c-30e6-43bc-e19a-3ad4c3c40b6a"
      },
      "source": [
        "regr.coef_"
      ],
      "execution_count": 142,
      "outputs": [
        {
          "output_type": "execute_result",
          "data": {
            "text/plain": [
              "array([4339.30225018,   34.9447877 ])"
            ]
          },
          "metadata": {
            "tags": []
          },
          "execution_count": 142
        }
      ]
    },
    {
      "cell_type": "code",
      "metadata": {
        "id": "bSROpx5krqR1",
        "colab_type": "code",
        "colab": {
          "base_uri": "https://localhost:8080/",
          "height": 34
        },
        "outputId": "4e778f50-ae98-46d4-f70a-ea4ed084fc9d"
      },
      "source": [
        "regr.intercept_"
      ],
      "execution_count": 140,
      "outputs": [
        {
          "output_type": "execute_result",
          "data": {
            "text/plain": [
              "-153348.16619056734"
            ]
          },
          "metadata": {
            "tags": []
          },
          "execution_count": 140
        }
      ]
    },
    {
      "cell_type": "code",
      "metadata": {
        "id": "4k4kM37zMvx1",
        "colab_type": "code",
        "colab": {
          "base_uri": "https://localhost:8080/",
          "height": 34
        },
        "outputId": "f1ee7ab4-0a6b-42e4-bbf9-ad70d7f704e6"
      },
      "source": [
        "regr.predict([[36, 7685]])"
      ],
      "execution_count": 141,
      "outputs": [
        {
          "output_type": "execute_result",
          "data": {
            "text/plain": [
              "array([271417.40830571])"
            ]
          },
          "metadata": {
            "tags": []
          },
          "execution_count": 141
        }
      ]
    },
    {
      "cell_type": "markdown",
      "metadata": {
        "id": "W88YvZ37NroV",
        "colab_type": "text"
      },
      "source": [
        "For 36 years and monthly installments 7685  in test data ,which predicts the  loan amount as 271417 .\n",
        "\n",
        "After looking at the dataset ,We can say that it is predicting closer since test data mothly installment is little higher.\n",
        "\n",
        "\n",
        "**Loan_Amount**    **Duration**   **MonthlyPayments**\n",
        "\n",
        "  258444       -         36     -         7179\n",
        "\n",
        "  269964       -         36      -        7499\n",
        "\n",
        "  276084       -         36       -       7669\n"
      ]
    },
    {
      "cell_type": "code",
      "metadata": {
        "id": "vDuYlhqZv-Kl",
        "colab_type": "code",
        "colab": {
          "base_uri": "https://localhost:8080/",
          "height": 85
        },
        "outputId": "7d8041fd-b22d-46b0-f296-b7f4980f717d"
      },
      "source": [
        "from sklearn import metrics\n",
        "\n",
        "# The coefficients\n",
        "print('Coefficients: \\n', regr.coef_)\n",
        "# The mean squared error\n",
        "print('Mean squared error: %.2f'% metrics.mean_squared_error(Y_test, Y_pred))\n",
        "# The coefficient of determination: 1 is perfect prediction\n",
        "print('Coefficient of determination(R2_score): %.2f'% metrics.r2_score(Y_test, Y_pred))\n"
      ],
      "execution_count": 143,
      "outputs": [
        {
          "output_type": "stream",
          "text": [
            "Coefficients: \n",
            " [4339.30225018   34.9447877 ]\n",
            "Mean squared error: 1815629994.50\n",
            "Coefficient of determination(R2_score): 0.88\n"
          ],
          "name": "stdout"
        }
      ]
    },
    {
      "cell_type": "code",
      "metadata": {
        "id": "BxGbR5y-wTq7",
        "colab_type": "code",
        "colab": {
          "base_uri": "https://localhost:8080/",
          "height": 296
        },
        "outputId": "6cce921c-984d-4316-f14f-6c858cf08b20"
      },
      "source": [
        "plt.scatter(Y_test, Y_pred)\n",
        "plt.xlabel('Trained Values')\n",
        "plt.ylabel('Predictions')"
      ],
      "execution_count": 59,
      "outputs": [
        {
          "output_type": "execute_result",
          "data": {
            "text/plain": [
              "Text(0, 0.5, 'Predictions')"
            ]
          },
          "metadata": {
            "tags": []
          },
          "execution_count": 59
        },
        {
          "output_type": "display_data",
          "data": {
            "image/png": "[encoded data removed]",
            "text/plain": [
              "<Figure size 432x288 with 1 Axes>"
            ]
          },
          "metadata": {
            "tags": [],
            "needs_background": "light"
          }
        }
      ]
    },
    {
      "cell_type": "code",
      "metadata": {
        "id": "_GzSc-X5Kaoy",
        "colab_type": "code",
        "colab": {
          "base_uri": "https://localhost:8080/",
          "height": 129
        },
        "outputId": "bac3de62-415c-43b6-fbe6-31c9d3cb945b"
      },
      "source": [
        "Apply GMM with PCA"
      ],
      "execution_count": null,
      "outputs": [
        {
          "output_type": "error",
          "ename": "SyntaxError",
          "evalue": "ignored",
          "traceback": [
            "\u001b[0;36m  File \u001b[0;32m\"<ipython-input-8-8a5e8fd4cd4c>\"\u001b[0;36m, line \u001b[0;32m1\u001b[0m\n\u001b[0;31m    Apply GMM with PCA\u001b[0m\n\u001b[0m            ^\u001b[0m\n\u001b[0;31mSyntaxError\u001b[0m\u001b[0;31m:\u001b[0m invalid syntax\n"
          ]
        }
      ]
    },
    {
      "cell_type": "code",
      "metadata": {
        "id": "46RzHciELR2X",
        "colab_type": "code",
        "colab": {
          "base_uri": "https://localhost:8080/",
          "height": 136
        },
        "outputId": "4d6f15a9-953a-4e5e-c1c1-cd969aed8a83"
      },
      "source": [
        "cols = list(loan_d.columns)\n",
        "cols.remove(\"loan_id\")\n",
        "X = loan_d[cols].iloc[ :, 1:].values\n",
        "X"
      ],
      "execution_count": null,
      "outputs": [
        {
          "output_type": "execute_result",
          "data": {
            "text/plain": [
              "array([[9.30705e+05, 9.63960e+04, 1.20000e+01, 8.03300e+03, 2.00000e+00],\n",
              "       [9.30711e+05, 1.65960e+05, 3.60000e+01, 4.61000e+03, 1.00000e+00],\n",
              "       [9.30728e+05, 1.27080e+05, 6.00000e+01, 2.11800e+03, 1.00000e+00],\n",
              "       ...,\n",
              "       [9.81206e+05, 1.39488e+05, 2.40000e+01, 5.81200e+03, 3.00000e+00],\n",
              "       [9.81206e+05, 5.56320e+04, 2.40000e+01, 2.31800e+03, 3.00000e+00],\n",
              "       [9.81208e+05, 2.40900e+05, 6.00000e+01, 4.01500e+03, 3.00000e+00]])"
            ]
          },
          "metadata": {
            "tags": []
          },
          "execution_count": 8
        }
      ]
    },
    {
      "cell_type": "code",
      "metadata": {
        "id": "QEufP_EUMVm6",
        "colab_type": "code",
        "colab": {
          "base_uri": "https://localhost:8080/",
          "height": 204
        },
        "outputId": "b332d285-4018-4123-9186-0f547470021e"
      },
      "source": [
        "from sklearn.preprocessing import StandardScaler\n",
        "X_std = StandardScaler().fit_transform(X)\n",
        "\n",
        "from sklearn.decomposition import PCA as sklearnPCA\n",
        "sklearn_pca = sklearnPCA(n_components=2)\n",
        "Y_sklearn = sklearn_pca.fit_transform(X_std)\n",
        "Y_sklearn\n",
        "\n",
        "loan_d[\"PCS_1\"] = Y_sklearn[:,0]\n",
        "loan_d[\"PCS_2\"] = Y_sklearn[:,1]\n",
        "loan_d.head()"
      ],
      "execution_count": null,
      "outputs": [
        {
          "output_type": "execute_result",
          "data": {
            "text/html": [
              "<div>\n",
              "<style scoped>\n",
              "    .dataframe tbody tr th:only-of-type {\n",
              "        vertical-align: middle;\n",
              "    }\n",
              "\n",
              "    .dataframe tbody tr th {\n",
              "        vertical-align: top;\n",
              "    }\n",
              "\n",
              "    .dataframe thead th {\n",
              "        text-align: right;\n",
              "    }\n",
              "</style>\n",
              "<table border=\"1\" class=\"dataframe\">\n",
              "  <thead>\n",
              "    <tr style=\"text-align: right;\">\n",
              "      <th></th>\n",
              "      <th>loan_id</th>\n",
              "      <th>account_id</th>\n",
              "      <th>date</th>\n",
              "      <th>amount</th>\n",
              "      <th>duration</th>\n",
              "      <th>payments</th>\n",
              "      <th>status</th>\n",
              "      <th>PCS_1</th>\n",
              "      <th>PCS_2</th>\n",
              "    </tr>\n",
              "  </thead>\n",
              "  <tbody>\n",
              "    <tr>\n",
              "      <th>0</th>\n",
              "      <td>5314</td>\n",
              "      <td>1787</td>\n",
              "      <td>930705</td>\n",
              "      <td>96396</td>\n",
              "      <td>12</td>\n",
              "      <td>8033.0</td>\n",
              "      <td>2</td>\n",
              "      <td>-1.380510</td>\n",
              "      <td>2.328908</td>\n",
              "    </tr>\n",
              "    <tr>\n",
              "      <th>1</th>\n",
              "      <td>5316</td>\n",
              "      <td>1801</td>\n",
              "      <td>930711</td>\n",
              "      <td>165960</td>\n",
              "      <td>36</td>\n",
              "      <td>4610.0</td>\n",
              "      <td>1</td>\n",
              "      <td>-1.277844</td>\n",
              "      <td>1.819989</td>\n",
              "    </tr>\n",
              "    <tr>\n",
              "      <th>2</th>\n",
              "      <td>6863</td>\n",
              "      <td>9188</td>\n",
              "      <td>930728</td>\n",
              "      <td>127080</td>\n",
              "      <td>60</td>\n",
              "      <td>2118.0</td>\n",
              "      <td>1</td>\n",
              "      <td>-1.071432</td>\n",
              "      <td>0.774228</td>\n",
              "    </tr>\n",
              "    <tr>\n",
              "      <th>3</th>\n",
              "      <td>5325</td>\n",
              "      <td>1843</td>\n",
              "      <td>930803</td>\n",
              "      <td>105804</td>\n",
              "      <td>36</td>\n",
              "      <td>2939.0</td>\n",
              "      <td>1</td>\n",
              "      <td>-1.785011</td>\n",
              "      <td>1.107926</td>\n",
              "    </tr>\n",
              "    <tr>\n",
              "      <th>4</th>\n",
              "      <td>7240</td>\n",
              "      <td>11013</td>\n",
              "      <td>930906</td>\n",
              "      <td>274740</td>\n",
              "      <td>60</td>\n",
              "      <td>4579.0</td>\n",
              "      <td>1</td>\n",
              "      <td>-0.025932</td>\n",
              "      <td>2.025922</td>\n",
              "    </tr>\n",
              "  </tbody>\n",
              "</table>\n",
              "</div>"
            ],
            "text/plain": [
              "   loan_id  account_id    date  amount  ...  payments  status     PCS_1     PCS_2\n",
              "0     5314        1787  930705   96396  ...    8033.0       2 -1.380510  2.328908\n",
              "1     5316        1801  930711  165960  ...    4610.0       1 -1.277844  1.819989\n",
              "2     6863        9188  930728  127080  ...    2118.0       1 -1.071432  0.774228\n",
              "3     5325        1843  930803  105804  ...    2939.0       1 -1.785011  1.107926\n",
              "4     7240       11013  930906  274740  ...    4579.0       1 -0.025932  2.025922\n",
              "\n",
              "[5 rows x 9 columns]"
            ]
          },
          "metadata": {
            "tags": []
          },
          "execution_count": 70
        }
      ]
    },
    {
      "cell_type": "markdown",
      "metadata": {
        "id": "xEk8A6C9M0sP",
        "colab_type": "text"
      },
      "source": [
        "Applying GMM"
      ]
    },
    {
      "cell_type": "code",
      "metadata": {
        "id": "RhBpBtM_NZ_j",
        "colab_type": "code",
        "colab": {}
      },
      "source": [
        "from sklearn.mixture import GaussianMixture\n",
        "bic = []\n",
        "aic = []\n",
        "for i in range(8):\n",
        "    gm = GaussianMixture(\n",
        "                     n_components = i+1,\n",
        "                     n_init = 10,\n",
        "                     max_iter = 100);\n",
        "    gm.fit(X_std);\n",
        "    bic.append(gm.bic(X_std));\n",
        "    aic.append(gm.aic(X_std));\n",
        "    #print(min(bic))"
      ],
      "execution_count": null,
      "outputs": []
    },
    {
      "cell_type": "code",
      "metadata": {
        "id": "iEKk2HZXOHpF",
        "colab_type": "code",
        "colab": {
          "base_uri": "https://localhost:8080/",
          "height": 361
        },
        "outputId": "7e4ac9c0-edde-4cae-c7d3-5d7657be4980"
      },
      "source": [
        "sns.set_style(\"whitegrid\")\n",
        "\n",
        "sns.set(font_scale=0.5, style=\"ticks\")\n",
        "sns.set_context(\"poster\", font_scale = .5, rc={\"grid.linewidth\": 0.6})\n",
        "\n",
        "\n",
        "n_clusters=np.arange(0, 8);\n",
        "fig, ax = plt.subplots(1, 2, figsize=(12,5));\n",
        "\n",
        "plt.subplot(1, 2, 1);\n",
        "plt.plot(n_clusters, aic,marker=\"o\", label='AIC');\n",
        "plt.title(\"AIC Scores\");\n",
        "plt.xticks(n_clusters);\n",
        "plt.xlabel(\"No. of clusters\");\n",
        "plt.ylabel(\"Scores\");\n",
        "plt.legend();\n",
        "\n",
        "\n",
        "plt.subplot(1, 2, 2);\n",
        "plt.plot(n_clusters, bic, marker=\"o\",label='BIC');\n",
        "plt.title(\"BIC Scores\");\n",
        "plt.xticks(n_clusters);\n",
        "plt.xlabel(\"No. of clusters\");\n",
        "plt.ylabel(\"Scores\");\n",
        "plt.legend();\n",
        "\n",
        "plt.show();"
      ],
      "execution_count": null,
      "outputs": [
        {
          "output_type": "display_data",
          "data": {
            "image/png": "[encoded data removed]",
            "text/plain": [
              "<Figure size 864x360 with 2 Axes>"
            ]
          },
          "metadata": {
            "tags": []
          }
        }
      ]
    },
    {
      "cell_type": "code",
      "metadata": {
        "id": "9m--cE_tOWS8",
        "colab_type": "code",
        "colab": {}
      },
      "source": [
        "# inertia plotter function\n",
        "def inertia_plot(clust, X, start = 2, stop = 20):\n",
        "    inertia = []\n",
        "    for i in range(start,stop):\n",
        "        km = clust(n_clusters = i)\n",
        "        labels = km.fit_predict(X)\n",
        "        inertia.append(km.inertia_)\n",
        "    plt.figure(figsize = (12,6))\n",
        "    plt.plot(range(start,stop), inertia, marker = 'o')\n",
        "    plt.xlabel('Number of Clusters')\n",
        "    plt.ylabel('Inertia')\n",
        "    plt.title('Inertia plot with K')\n",
        "    plt.xticks(list(range(start, stop)))\n",
        "    plt.show()"
      ],
      "execution_count": null,
      "outputs": []
    },
    {
      "cell_type": "code",
      "metadata": {
        "id": "9WSbfoK_OdON",
        "colab_type": "code",
        "colab": {
          "base_uri": "https://localhost:8080/",
          "height": 416
        },
        "outputId": "6f4b3c2b-78ae-42f4-a29c-fc7019354977"
      },
      "source": [
        "from sklearn.cluster import KMeans\n",
        "inertia_plot(KMeans, X_std)"
      ],
      "execution_count": null,
      "outputs": [
        {
          "output_type": "display_data",
          "data": {
            "image/png": "[encoded data removed]",
            "text/plain": [
              "<Figure size 864x432 with 1 Axes>"
            ]
          },
          "metadata": {
            "tags": []
          }
        }
      ]
    },
    {
      "cell_type": "code",
      "metadata": {
        "id": "malRargiPL9-",
        "colab_type": "code",
        "colab": {
          "base_uri": "https://localhost:8080/",
          "height": 323
        },
        "outputId": "59227c6f-4e83-4ad3-ce7d-ab7bad4e314d"
      },
      "source": [
        "from sklearn.metrics import silhouette_samples, silhouette_score\n",
        "# apply PCA and display clustering metrics\n",
        "for y in range(2, 5):\n",
        "    print(\"PCA with # of components: \", y)\n",
        "    pca = sklearnPCA(n_components=y)\n",
        "    data_p = pca.fit_transform(X_std)\n",
        "    for i in range(2, 7):\n",
        "        alg = KMeans(n_clusters = i, )\n",
        "        label = alg.fit_predict(X_std)\n",
        "        print('Silhouette-Score for', i,  'Clusters: ', silhouette_score(data_p, label) , '       Inertia: ',alg.inertia_)\n",
        "    "
      ],
      "execution_count": null,
      "outputs": [
        {
          "output_type": "stream",
          "text": [
            "PCA with # of components:  2\n",
            "Silhouette-Score for 2 Clusters:  0.47409935344999443        Inertia:  2219.219815488008\n",
            "Silhouette-Score for 3 Clusters:  0.4939576669214077        Inertia:  1570.8504615413594\n",
            "Silhouette-Score for 4 Clusters:  0.2784503905692092        Inertia:  1334.1994853499068\n",
            "Silhouette-Score for 5 Clusters:  0.2572474253062777        Inertia:  1131.698897151016\n",
            "Silhouette-Score for 6 Clusters:  0.23382429659112025        Inertia:  1018.3774816986717\n",
            "PCA with # of components:  3\n",
            "Silhouette-Score for 2 Clusters:  0.3760955295659778        Inertia:  2219.219815488008\n",
            "Silhouette-Score for 3 Clusters:  0.3689122132991225        Inertia:  1570.8340689024753\n",
            "Silhouette-Score for 4 Clusters:  0.32835493335511795        Inertia:  1334.1994853499068\n",
            "Silhouette-Score for 5 Clusters:  0.32572388376050976        Inertia:  1131.698897151016\n",
            "Silhouette-Score for 6 Clusters:  0.3001189981414031        Inertia:  1021.8510183419713\n",
            "PCA with # of components:  4\n",
            "Silhouette-Score for 2 Clusters:  0.3588257510308882        Inertia:  2219.219815488008\n",
            "Silhouette-Score for 3 Clusters:  0.34743159990624184        Inertia:  1570.8340689024753\n",
            "Silhouette-Score for 4 Clusters:  0.307062373048697        Inertia:  1334.2120031041645\n",
            "Silhouette-Score for 5 Clusters:  0.3009634318735584        Inertia:  1131.9273897036378\n",
            "Silhouette-Score for 6 Clusters:  0.2784987944797951        Inertia:  1015.451597504963\n"
          ],
          "name": "stdout"
        }
      ]
    },
    {
      "cell_type": "code",
      "metadata": {
        "id": "pMgU2OsWRW0V",
        "colab_type": "code",
        "colab": {
          "base_uri": "https://localhost:8080/",
          "height": 487
        },
        "outputId": "0984a30a-e974-42f5-f14b-2217973a9bff"
      },
      "source": [
        "data_p = pd.DataFrame(sklearnPCA(n_components = 2).fit_transform(X_std))\n",
        "preds_gmm = pd.Series(GaussianMixture(n_components = 5).fit_predict(data_p))\n",
        "data_p = pd.concat([data_p, preds_gmm], axis =1)\n",
        "data_p.columns = [0,1,'target']\n",
        "Gmm_trained = preds_gmm\n",
        "\n",
        "fig = plt.figure(figsize = (18, 7))\n",
        "colors = ['red', 'green', 'blue', 'purple', 'orange', 'brown']\n",
        "plt.subplot(121)\n",
        "plt.scatter(data_p[data_p['target']==0].iloc[:,0], data_p[data_p.target==0].iloc[:,1], c = colors[0], label = 'cluster 1')\n",
        "plt.scatter(data_p[data_p['target']==1].iloc[:,0], data_p[data_p.target==1].iloc[:,1], c = colors[1], label = 'cluster 2')\n",
        "plt.scatter(data_p[data_p['target']==2].iloc[:,0], data_p[data_p.target==2].iloc[:,1], c = colors[2], label = 'cluster 3')\n",
        "plt.scatter(data_p[data_p['target']==3].iloc[:,0], data_p[data_p.target==3].iloc[:,1], c = colors[3], label = 'cluster 4')\n",
        "plt.scatter(data_p[data_p['target']==4].iloc[:,0], data_p[data_p.target==4].iloc[:,1], c = colors[4], label = 'cluster 5')\n",
        "plt.legend()\n",
        "plt.title('Gaussian Mixture Clustering with 4 Clusters')\n",
        "plt.xlabel('PC1')\n",
        "plt.ylabel('PC2')"
      ],
      "execution_count": null,
      "outputs": [
        {
          "output_type": "execute_result",
          "data": {
            "text/plain": [
              "Text(0, 0.5, 'PC2')"
            ]
          },
          "metadata": {
            "tags": []
          },
          "execution_count": 16
        },
        {
          "output_type": "display_data",
          "data": {
            "image/png": "[encoded data removed]",
            "text/plain": [
              "<Figure size 1296x504 with 1 Axes>"
            ]
          },
          "metadata": {
            "tags": []
          }
        }
      ]
    },
    {
      "cell_type": "code",
      "metadata": {
        "id": "xKmya2pXTCQP",
        "colab_type": "code",
        "colab": {
          "base_uri": "https://localhost:8080/",
          "height": 419
        },
        "outputId": "350d0e3d-1386-4b5c-beb1-c7a243043787"
      },
      "source": [
        "data_p\n",
        "#type(data_p)"
      ],
      "execution_count": null,
      "outputs": [
        {
          "output_type": "execute_result",
          "data": {
            "text/html": [
              "<div>\n",
              "<style scoped>\n",
              "    .dataframe tbody tr th:only-of-type {\n",
              "        vertical-align: middle;\n",
              "    }\n",
              "\n",
              "    .dataframe tbody tr th {\n",
              "        vertical-align: top;\n",
              "    }\n",
              "\n",
              "    .dataframe thead th {\n",
              "        text-align: right;\n",
              "    }\n",
              "</style>\n",
              "<table border=\"1\" class=\"dataframe\">\n",
              "  <thead>\n",
              "    <tr style=\"text-align: right;\">\n",
              "      <th></th>\n",
              "      <th>0</th>\n",
              "      <th>1</th>\n",
              "      <th>target</th>\n",
              "    </tr>\n",
              "  </thead>\n",
              "  <tbody>\n",
              "    <tr>\n",
              "      <th>0</th>\n",
              "      <td>-1.380510</td>\n",
              "      <td>2.328908</td>\n",
              "      <td>4</td>\n",
              "    </tr>\n",
              "    <tr>\n",
              "      <th>1</th>\n",
              "      <td>-1.277844</td>\n",
              "      <td>1.819989</td>\n",
              "      <td>4</td>\n",
              "    </tr>\n",
              "    <tr>\n",
              "      <th>2</th>\n",
              "      <td>-1.071432</td>\n",
              "      <td>0.774228</td>\n",
              "      <td>1</td>\n",
              "    </tr>\n",
              "    <tr>\n",
              "      <th>3</th>\n",
              "      <td>-1.785011</td>\n",
              "      <td>1.107926</td>\n",
              "      <td>1</td>\n",
              "    </tr>\n",
              "    <tr>\n",
              "      <th>4</th>\n",
              "      <td>-0.025932</td>\n",
              "      <td>2.025922</td>\n",
              "      <td>4</td>\n",
              "    </tr>\n",
              "    <tr>\n",
              "      <th>...</th>\n",
              "      <td>...</td>\n",
              "      <td>...</td>\n",
              "      <td>...</td>\n",
              "    </tr>\n",
              "    <tr>\n",
              "      <th>677</th>\n",
              "      <td>2.399873</td>\n",
              "      <td>0.746358</td>\n",
              "      <td>3</td>\n",
              "    </tr>\n",
              "    <tr>\n",
              "      <th>678</th>\n",
              "      <td>-0.531967</td>\n",
              "      <td>-0.955200</td>\n",
              "      <td>2</td>\n",
              "    </tr>\n",
              "    <tr>\n",
              "      <th>679</th>\n",
              "      <td>0.436865</td>\n",
              "      <td>-0.304134</td>\n",
              "      <td>0</td>\n",
              "    </tr>\n",
              "    <tr>\n",
              "      <th>680</th>\n",
              "      <td>-0.419925</td>\n",
              "      <td>-1.635546</td>\n",
              "      <td>2</td>\n",
              "    </tr>\n",
              "    <tr>\n",
              "      <th>681</th>\n",
              "      <td>1.781970</td>\n",
              "      <td>-0.724144</td>\n",
              "      <td>0</td>\n",
              "    </tr>\n",
              "  </tbody>\n",
              "</table>\n",
              "<p>682 rows × 3 columns</p>\n",
              "</div>"
            ],
            "text/plain": [
              "            0         1  target\n",
              "0   -1.380510  2.328908       4\n",
              "1   -1.277844  1.819989       4\n",
              "2   -1.071432  0.774228       1\n",
              "3   -1.785011  1.107926       1\n",
              "4   -0.025932  2.025922       4\n",
              "..        ...       ...     ...\n",
              "677  2.399873  0.746358       3\n",
              "678 -0.531967 -0.955200       2\n",
              "679  0.436865 -0.304134       0\n",
              "680 -0.419925 -1.635546       2\n",
              "681  1.781970 -0.724144       0\n",
              "\n",
              "[682 rows x 3 columns]"
            ]
          },
          "metadata": {
            "tags": []
          },
          "execution_count": 17
        }
      ]
    },
    {
      "cell_type": "code",
      "metadata": {
        "id": "8jCXHIHxTYbI",
        "colab_type": "code",
        "colab": {
          "base_uri": "https://localhost:8080/",
          "height": 204
        },
        "outputId": "b477ead9-0487-45ea-8223-cd9bec480d97"
      },
      "source": [
        "loan_d.head()"
      ],
      "execution_count": null,
      "outputs": [
        {
          "output_type": "execute_result",
          "data": {
            "text/html": [
              "<div>\n",
              "<style scoped>\n",
              "    .dataframe tbody tr th:only-of-type {\n",
              "        vertical-align: middle;\n",
              "    }\n",
              "\n",
              "    .dataframe tbody tr th {\n",
              "        vertical-align: top;\n",
              "    }\n",
              "\n",
              "    .dataframe thead th {\n",
              "        text-align: right;\n",
              "    }\n",
              "</style>\n",
              "<table border=\"1\" class=\"dataframe\">\n",
              "  <thead>\n",
              "    <tr style=\"text-align: right;\">\n",
              "      <th></th>\n",
              "      <th>loan_id</th>\n",
              "      <th>account_id</th>\n",
              "      <th>date</th>\n",
              "      <th>amount</th>\n",
              "      <th>duration</th>\n",
              "      <th>payments</th>\n",
              "      <th>status</th>\n",
              "      <th>PCS_1</th>\n",
              "      <th>PCS_2</th>\n",
              "    </tr>\n",
              "  </thead>\n",
              "  <tbody>\n",
              "    <tr>\n",
              "      <th>0</th>\n",
              "      <td>5314</td>\n",
              "      <td>1787</td>\n",
              "      <td>930705</td>\n",
              "      <td>96396</td>\n",
              "      <td>12</td>\n",
              "      <td>8033.0</td>\n",
              "      <td>2</td>\n",
              "      <td>-1.380510</td>\n",
              "      <td>2.328908</td>\n",
              "    </tr>\n",
              "    <tr>\n",
              "      <th>1</th>\n",
              "      <td>5316</td>\n",
              "      <td>1801</td>\n",
              "      <td>930711</td>\n",
              "      <td>165960</td>\n",
              "      <td>36</td>\n",
              "      <td>4610.0</td>\n",
              "      <td>1</td>\n",
              "      <td>-1.277844</td>\n",
              "      <td>1.819989</td>\n",
              "    </tr>\n",
              "    <tr>\n",
              "      <th>2</th>\n",
              "      <td>6863</td>\n",
              "      <td>9188</td>\n",
              "      <td>930728</td>\n",
              "      <td>127080</td>\n",
              "      <td>60</td>\n",
              "      <td>2118.0</td>\n",
              "      <td>1</td>\n",
              "      <td>-1.071432</td>\n",
              "      <td>0.774228</td>\n",
              "    </tr>\n",
              "    <tr>\n",
              "      <th>3</th>\n",
              "      <td>5325</td>\n",
              "      <td>1843</td>\n",
              "      <td>930803</td>\n",
              "      <td>105804</td>\n",
              "      <td>36</td>\n",
              "      <td>2939.0</td>\n",
              "      <td>1</td>\n",
              "      <td>-1.785011</td>\n",
              "      <td>1.107926</td>\n",
              "    </tr>\n",
              "    <tr>\n",
              "      <th>4</th>\n",
              "      <td>7240</td>\n",
              "      <td>11013</td>\n",
              "      <td>930906</td>\n",
              "      <td>274740</td>\n",
              "      <td>60</td>\n",
              "      <td>4579.0</td>\n",
              "      <td>1</td>\n",
              "      <td>-0.025932</td>\n",
              "      <td>2.025922</td>\n",
              "    </tr>\n",
              "  </tbody>\n",
              "</table>\n",
              "</div>"
            ],
            "text/plain": [
              "   loan_id  account_id    date  amount  ...  payments  status     PCS_1     PCS_2\n",
              "0     5314        1787  930705   96396  ...    8033.0       2 -1.380510  2.328908\n",
              "1     5316        1801  930711  165960  ...    4610.0       1 -1.277844  1.819989\n",
              "2     6863        9188  930728  127080  ...    2118.0       1 -1.071432  0.774228\n",
              "3     5325        1843  930803  105804  ...    2939.0       1 -1.785011  1.107926\n",
              "4     7240       11013  930906  274740  ...    4579.0       1 -0.025932  2.025922\n",
              "\n",
              "[5 rows x 9 columns]"
            ]
          },
          "metadata": {
            "tags": []
          },
          "execution_count": 18
        }
      ]
    },
    {
      "cell_type": "code",
      "metadata": {
        "id": "eteihKyYTrcC",
        "colab_type": "code",
        "colab": {
          "base_uri": "https://localhost:8080/",
          "height": 204
        },
        "outputId": "7fbb62e2-ee84-4bf8-898c-c2e975ea3d75"
      },
      "source": [
        "loan_d[\"cluster\"] = pd.DataFrame(data_p['target'])\n",
        "loan_d.head()"
      ],
      "execution_count": null,
      "outputs": [
        {
          "output_type": "execute_result",
          "data": {
            "text/html": [
              "<div>\n",
              "<style scoped>\n",
              "    .dataframe tbody tr th:only-of-type {\n",
              "        vertical-align: middle;\n",
              "    }\n",
              "\n",
              "    .dataframe tbody tr th {\n",
              "        vertical-align: top;\n",
              "    }\n",
              "\n",
              "    .dataframe thead th {\n",
              "        text-align: right;\n",
              "    }\n",
              "</style>\n",
              "<table border=\"1\" class=\"dataframe\">\n",
              "  <thead>\n",
              "    <tr style=\"text-align: right;\">\n",
              "      <th></th>\n",
              "      <th>loan_id</th>\n",
              "      <th>account_id</th>\n",
              "      <th>date</th>\n",
              "      <th>amount</th>\n",
              "      <th>duration</th>\n",
              "      <th>payments</th>\n",
              "      <th>status</th>\n",
              "      <th>PCS_1</th>\n",
              "      <th>PCS_2</th>\n",
              "      <th>cluster</th>\n",
              "    </tr>\n",
              "  </thead>\n",
              "  <tbody>\n",
              "    <tr>\n",
              "      <th>0</th>\n",
              "      <td>5314</td>\n",
              "      <td>1787</td>\n",
              "      <td>930705</td>\n",
              "      <td>96396</td>\n",
              "      <td>12</td>\n",
              "      <td>8033.0</td>\n",
              "      <td>2</td>\n",
              "      <td>-1.380510</td>\n",
              "      <td>2.328908</td>\n",
              "      <td>4</td>\n",
              "    </tr>\n",
              "    <tr>\n",
              "      <th>1</th>\n",
              "      <td>5316</td>\n",
              "      <td>1801</td>\n",
              "      <td>930711</td>\n",
              "      <td>165960</td>\n",
              "      <td>36</td>\n",
              "      <td>4610.0</td>\n",
              "      <td>1</td>\n",
              "      <td>-1.277844</td>\n",
              "      <td>1.819989</td>\n",
              "      <td>4</td>\n",
              "    </tr>\n",
              "    <tr>\n",
              "      <th>2</th>\n",
              "      <td>6863</td>\n",
              "      <td>9188</td>\n",
              "      <td>930728</td>\n",
              "      <td>127080</td>\n",
              "      <td>60</td>\n",
              "      <td>2118.0</td>\n",
              "      <td>1</td>\n",
              "      <td>-1.071432</td>\n",
              "      <td>0.774228</td>\n",
              "      <td>1</td>\n",
              "    </tr>\n",
              "    <tr>\n",
              "      <th>3</th>\n",
              "      <td>5325</td>\n",
              "      <td>1843</td>\n",
              "      <td>930803</td>\n",
              "      <td>105804</td>\n",
              "      <td>36</td>\n",
              "      <td>2939.0</td>\n",
              "      <td>1</td>\n",
              "      <td>-1.785011</td>\n",
              "      <td>1.107926</td>\n",
              "      <td>1</td>\n",
              "    </tr>\n",
              "    <tr>\n",
              "      <th>4</th>\n",
              "      <td>7240</td>\n",
              "      <td>11013</td>\n",
              "      <td>930906</td>\n",
              "      <td>274740</td>\n",
              "      <td>60</td>\n",
              "      <td>4579.0</td>\n",
              "      <td>1</td>\n",
              "      <td>-0.025932</td>\n",
              "      <td>2.025922</td>\n",
              "      <td>4</td>\n",
              "    </tr>\n",
              "  </tbody>\n",
              "</table>\n",
              "</div>"
            ],
            "text/plain": [
              "   loan_id  account_id    date  amount  ...  status     PCS_1     PCS_2  cluster\n",
              "0     5314        1787  930705   96396  ...       2 -1.380510  2.328908        4\n",
              "1     5316        1801  930711  165960  ...       1 -1.277844  1.819989        4\n",
              "2     6863        9188  930728  127080  ...       1 -1.071432  0.774228        1\n",
              "3     5325        1843  930803  105804  ...       1 -1.785011  1.107926        1\n",
              "4     7240       11013  930906  274740  ...       1 -0.025932  2.025922        4\n",
              "\n",
              "[5 rows x 10 columns]"
            ]
          },
          "metadata": {
            "tags": []
          },
          "execution_count": 19
        }
      ]
    },
    {
      "cell_type": "markdown",
      "metadata": {
        "id": "SPt3tqzoUjjm",
        "colab_type": "text"
      },
      "source": [
        "To find the features in PCS_1 and PCS_2 which contibutes max"
      ]
    },
    {
      "cell_type": "code",
      "metadata": {
        "id": "mDbsqe0PUsvw",
        "colab_type": "code",
        "colab": {
          "base_uri": "https://localhost:8080/",
          "height": 34
        },
        "outputId": "1d32f303-a595-49c8-f022-813332a7cff0"
      },
      "source": [
        "model = sklearnPCA(n_components=2).fit(X_std)\n",
        "X_pc = model.transform(X_std)\n",
        "# number of components\n",
        "n_pcs= model.components_.shape[0]\n",
        "print(n_pcs)\n",
        "#print(model.components_)\n",
        "#type(model)\n",
        "\n"
      ],
      "execution_count": null,
      "outputs": [
        {
          "output_type": "stream",
          "text": [
            "2\n"
          ],
          "name": "stdout"
        }
      ]
    },
    {
      "cell_type": "code",
      "metadata": {
        "id": "9oRTVI8mWW-m",
        "colab_type": "code",
        "colab": {
          "base_uri": "https://localhost:8080/",
          "height": 34
        },
        "outputId": "5b8f3419-7bc6-4201-a9c8-ae6043ce3545"
      },
      "source": [
        "# get the index of the most important feature on EACH component\n",
        "# LIST COMPREHENSION HERE\n",
        "most_important = [np.abs(model.components_[i]).argmax() for i in range(n_pcs)]\n",
        "\n",
        "print(most_important)"
      ],
      "execution_count": null,
      "outputs": [
        {
          "output_type": "stream",
          "text": [
            "[1, 3]\n"
          ],
          "name": "stdout"
        }
      ]
    },
    {
      "cell_type": "markdown",
      "metadata": {
        "id": "uNMcu2L3XCaf",
        "colab_type": "text"
      },
      "source": [
        "Analysing the clusters"
      ]
    },
    {
      "cell_type": "code",
      "metadata": {
        "id": "yn1Z4QfGXZMC",
        "colab_type": "code",
        "colab": {
          "base_uri": "https://localhost:8080/",
          "height": 1000
        },
        "outputId": "2020ce12-17af-4933-8059-817f047599fd"
      },
      "source": [
        "sns.lmplot(\"amount\",\"payments\", data=loan_d, hue='cluster', fit_reg=False)\n",
        "sns.lmplot(\"status\",\"payments\", data=loan_d, hue='cluster', fit_reg=False)\n",
        "sns.lmplot(\"status\",\"amount\", data=loan_d, hue='cluster', fit_reg=False)\n",
        "plt.show()"
      ],
      "execution_count": null,
      "outputs": [
        {
          "output_type": "display_data",
          "data": {
            "image/png": "[encoded data removed]",
            "text/plain": [
              "<Figure size 450.425x360 with 1 Axes>"
            ]
          },
          "metadata": {
            "tags": []
          }
        },
        {
          "output_type": "display_data",
          "data": {
            "image/png": "[encoded data removed]",
            "text/plain": [
              "<Figure size 450.425x360 with 1 Axes>"
            ]
          },
          "metadata": {
            "tags": []
          }
        },
        {
          "output_type": "display_data",
          "data": {
            "image/png": "[encoded data removed]",
            "text/plain": [
              "<Figure size 450.425x360 with 1 Axes>"
            ]
          },
          "metadata": {
            "tags": []
          }
        }
      ]
    },
    {
      "cell_type": "markdown",
      "metadata": {
        "id": "pyI2kCmPW8Ar",
        "colab_type": "text"
      },
      "source": [
        "Calculating Latent Manifold Variable\n",
        "\n",
        "Adding more information about the consumers transaction over time to the loan by filtering his transaction and calculating his median payment amount, last payment date, number of payents till date and balence as of that day."
      ]
    },
    {
      "cell_type": "code",
      "metadata": {
        "id": "MzDr7LXdWTWh",
        "colab_type": "code",
        "colab": {}
      },
      "source": [
        "_tmpdf = trans_d.loc[trans_d['k_symbol'] == 'UVER']\n",
        "#_tmpdf\n",
        "\n",
        "unique_account_id = _tmpdf['account_id'].unique()\n",
        "unique_account_id\n",
        "account_idlist = list(unique_account_id)\n",
        "account_idlist\n",
        "\n",
        "\n"
      ],
      "execution_count": null,
      "outputs": []
    },
    {
      "cell_type": "code",
      "metadata": {
        "id": "T_zbTFgbj2Cl",
        "colab_type": "code",
        "colab": {
          "base_uri": "https://localhost:8080/",
          "height": 80
        },
        "outputId": "d9b059bc-a93a-4ce5-94c9-2ffb823f14e5"
      },
      "source": [
        "#for getting all the parameters required to calculate the payment relaiability\n",
        "balenceasoflastpaymentdate=[]\n",
        "lastpaymentdate=[]\n",
        "numberofPayments=[]\n",
        "for acc_id in account_idlist:\n",
        "  #print(acc_id)\n",
        "  individual_acc_record = _tmpdf.loc[_tmpdf['account_id'] == acc_id]\n",
        "  lastpaymentdate.append((individual_acc_record['date']).values[-1])\n",
        "  \n",
        "  balenceasoflastpaymentdate.append((individual_acc_record['balance'].values)[-1])\n",
        "  \n",
        "  numberofPayments.append(len(individual_acc_record['amount']))\n",
        "  \n",
        "  \n",
        "\n",
        "\n",
        "\n",
        "individual_acc_record.head()"
      ],
      "execution_count": 100,
      "outputs": [
        {
          "output_type": "execute_result",
          "data": {
            "text/html": [
              "<div>\n",
              "<style scoped>\n",
              "    .dataframe tbody tr th:only-of-type {\n",
              "        vertical-align: middle;\n",
              "    }\n",
              "\n",
              "    .dataframe tbody tr th {\n",
              "        vertical-align: top;\n",
              "    }\n",
              "\n",
              "    .dataframe thead th {\n",
              "        text-align: right;\n",
              "    }\n",
              "</style>\n",
              "<table border=\"1\" class=\"dataframe\">\n",
              "  <thead>\n",
              "    <tr style=\"text-align: right;\">\n",
              "      <th></th>\n",
              "      <th>trans_id</th>\n",
              "      <th>account_id</th>\n",
              "      <th>date</th>\n",
              "      <th>type</th>\n",
              "      <th>operation</th>\n",
              "      <th>amount</th>\n",
              "      <th>balance</th>\n",
              "      <th>k_symbol</th>\n",
              "      <th>bank</th>\n",
              "      <th>account</th>\n",
              "    </tr>\n",
              "  </thead>\n",
              "  <tbody>\n",
              "    <tr>\n",
              "      <th>1044595</th>\n",
              "      <td>91156</td>\n",
              "      <td>309</td>\n",
              "      <td>981212</td>\n",
              "      <td>VYDAJ</td>\n",
              "      <td>PREVOD NA UCET</td>\n",
              "      <td>1901.0</td>\n",
              "      <td>39559.8</td>\n",
              "      <td>UVER</td>\n",
              "      <td>UV</td>\n",
              "      <td>74396675.0</td>\n",
              "    </tr>\n",
              "  </tbody>\n",
              "</table>\n",
              "</div>"
            ],
            "text/plain": [
              "         trans_id  account_id    date   type  ...  balance  k_symbol  bank     account\n",
              "1044595     91156         309  981212  VYDAJ  ...  39559.8      UVER    UV  74396675.0\n",
              "\n",
              "[1 rows x 10 columns]"
            ]
          },
          "metadata": {
            "tags": []
          },
          "execution_count": 100
        }
      ]
    },
    {
      "cell_type": "code",
      "metadata": {
        "id": "LSeOcpe_6HkF",
        "colab_type": "code",
        "colab": {}
      },
      "source": [
        "lastpaymtBal=[]\n",
        "AccBal = []\n",
        "lastpaymtDate=[]\n",
        "noPayments=[]\n",
        "pmt_relaibality=[]\n",
        "for i in loan_d['account_id']:\n",
        "    idx = account_idlist.index(i)\n",
        "    #print(idx)\n",
        "    AccBal.append(balenceasoflastpaymentdate[idx])\n",
        "    noPayments.append(numberofPayments[idx])\n",
        "    lastpaymtDate.append(lastpaymentdate[idx])\n",
        "    ind_record = loan_d.loc[loan_d['account_id'] == i]\n",
        "    balance_remaining = ind_record['amount'].values[0]-(ind_record['payments'].values[0]*numberofPayments[idx])\n",
        "    print(balance_remaining)\n",
        "    lastpaymtBal.append(balance_remaining) \n",
        "    \n",
        "    if((ind_record['duration'].values[0]-numberofPayments[idx])>0):\n",
        "        #loan_paid_so_far = numberofPayments[idx] * ind_record['payments'].values[0]\n",
        "        balance_rem = ind_record['amount'].values[0]-(ind_record['payments'].values[0]*numberofPayments[idx])\n",
        "        pmt_relaibality.append(((balenceasoflastpaymentdate[idx]/(ind_record['duration'].values[0]-numberofPayments[idx]))/ind_record['payments'].values[0]))\n",
        "    else:\n",
        "        pmt_relaibality.append(1)\n",
        "\n",
        "ind_record.head()\n",
        "print(len(lastpaymtBal))\n",
        "print(lastpaymtBal)\n",
        "print(len(loan_d))"
      ],
      "execution_count": null,
      "outputs": []
    },
    {
      "cell_type": "code",
      "metadata": {
        "id": "jUGqxR-ARRDV",
        "colab_type": "code",
        "colab": {
          "base_uri": "https://localhost:8080/",
          "height": 224
        },
        "outputId": "b424b0c8-748b-47b5-f101-a5781cdb5ea5"
      },
      "source": [
        "loan_d['balenceAsOfLastpayment'] = lastpaymtBal\n",
        "loan_d['lastPaymentDate'] = lastpaymtDate\n",
        "loan_d['numberofpayments'] = noPayments\n",
        "loan_d['account_balance'] = AccBal\n",
        "\n",
        "# Payment Reliabality\n",
        "loan_d['paymentReliability'] = pmt_relaibality\n",
        "\n",
        "loan_d.head()"
      ],
      "execution_count": 102,
      "outputs": [
        {
          "output_type": "execute_result",
          "data": {
            "text/html": [
              "<div>\n",
              "<style scoped>\n",
              "    .dataframe tbody tr th:only-of-type {\n",
              "        vertical-align: middle;\n",
              "    }\n",
              "\n",
              "    .dataframe tbody tr th {\n",
              "        vertical-align: top;\n",
              "    }\n",
              "\n",
              "    .dataframe thead th {\n",
              "        text-align: right;\n",
              "    }\n",
              "</style>\n",
              "<table border=\"1\" class=\"dataframe\">\n",
              "  <thead>\n",
              "    <tr style=\"text-align: right;\">\n",
              "      <th></th>\n",
              "      <th>loan_id</th>\n",
              "      <th>account_id</th>\n",
              "      <th>date</th>\n",
              "      <th>amount</th>\n",
              "      <th>duration</th>\n",
              "      <th>payments</th>\n",
              "      <th>status</th>\n",
              "      <th>balenceAsOfLastpayment</th>\n",
              "      <th>lastPaymentDate</th>\n",
              "      <th>numberofpayments</th>\n",
              "      <th>account_balance</th>\n",
              "      <th>paymentReliability</th>\n",
              "    </tr>\n",
              "  </thead>\n",
              "  <tbody>\n",
              "    <tr>\n",
              "      <th>0</th>\n",
              "      <td>5314</td>\n",
              "      <td>1787</td>\n",
              "      <td>930705</td>\n",
              "      <td>96396</td>\n",
              "      <td>12</td>\n",
              "      <td>8033.0</td>\n",
              "      <td>2</td>\n",
              "      <td>64264.0</td>\n",
              "      <td>940612</td>\n",
              "      <td>4</td>\n",
              "      <td>35875.9</td>\n",
              "      <td>0.558258</td>\n",
              "    </tr>\n",
              "    <tr>\n",
              "      <th>1</th>\n",
              "      <td>5316</td>\n",
              "      <td>1801</td>\n",
              "      <td>930711</td>\n",
              "      <td>165960</td>\n",
              "      <td>36</td>\n",
              "      <td>4610.0</td>\n",
              "      <td>1</td>\n",
              "      <td>0.0</td>\n",
              "      <td>960612</td>\n",
              "      <td>36</td>\n",
              "      <td>34161.7</td>\n",
              "      <td>1.000000</td>\n",
              "    </tr>\n",
              "    <tr>\n",
              "      <th>2</th>\n",
              "      <td>6863</td>\n",
              "      <td>9188</td>\n",
              "      <td>930728</td>\n",
              "      <td>127080</td>\n",
              "      <td>60</td>\n",
              "      <td>2118.0</td>\n",
              "      <td>1</td>\n",
              "      <td>0.0</td>\n",
              "      <td>980712</td>\n",
              "      <td>60</td>\n",
              "      <td>22758.5</td>\n",
              "      <td>1.000000</td>\n",
              "    </tr>\n",
              "    <tr>\n",
              "      <th>3</th>\n",
              "      <td>5325</td>\n",
              "      <td>1843</td>\n",
              "      <td>930803</td>\n",
              "      <td>105804</td>\n",
              "      <td>36</td>\n",
              "      <td>2939.0</td>\n",
              "      <td>1</td>\n",
              "      <td>0.0</td>\n",
              "      <td>960712</td>\n",
              "      <td>36</td>\n",
              "      <td>49935.4</td>\n",
              "      <td>1.000000</td>\n",
              "    </tr>\n",
              "    <tr>\n",
              "      <th>4</th>\n",
              "      <td>7240</td>\n",
              "      <td>11013</td>\n",
              "      <td>930906</td>\n",
              "      <td>274740</td>\n",
              "      <td>60</td>\n",
              "      <td>4579.0</td>\n",
              "      <td>1</td>\n",
              "      <td>0.0</td>\n",
              "      <td>980812</td>\n",
              "      <td>60</td>\n",
              "      <td>37523.2</td>\n",
              "      <td>1.000000</td>\n",
              "    </tr>\n",
              "  </tbody>\n",
              "</table>\n",
              "</div>"
            ],
            "text/plain": [
              "   loan_id  account_id  ...  account_balance  paymentReliability\n",
              "0     5314        1787  ...          35875.9            0.558258\n",
              "1     5316        1801  ...          34161.7            1.000000\n",
              "2     6863        9188  ...          22758.5            1.000000\n",
              "3     5325        1843  ...          49935.4            1.000000\n",
              "4     7240       11013  ...          37523.2            1.000000\n",
              "\n",
              "[5 rows x 12 columns]"
            ]
          },
          "metadata": {
            "tags": []
          },
          "execution_count": 102
        }
      ]
    },
    {
      "cell_type": "code",
      "metadata": {
        "id": "aansSDcdRbKU",
        "colab_type": "code",
        "colab": {}
      },
      "source": [
        "loan_d.to_csv('data_new4.csv')"
      ],
      "execution_count": 103,
      "outputs": []
    },
    {
      "cell_type": "markdown",
      "metadata": {
        "id": "oQM1D-FstOmy",
        "colab_type": "text"
      },
      "source": [
        "Applying Fractal KMeans\n",
        "our Objective function is to get a good cluster where payment relaibilty is high"
      ]
    },
    {
      "cell_type": "code",
      "metadata": {
        "id": "T5TTkAkMIb1t",
        "colab_type": "code",
        "colab": {
          "base_uri": "https://localhost:8080/",
          "height": 224
        },
        "outputId": "6d231d6c-84ed-4f67-e7c8-bdcd9e92f45c"
      },
      "source": [
        "#scaling the data\n",
        "from sklearn.preprocessing import MinMaxScaler\n",
        "scaler = MinMaxScaler()\n",
        "scaler.fit(loan_d[['status']])\n",
        "loan_d['status'] = scaler.transform(loan_d[['status']])\n",
        "\n",
        "scaler.fit(loan_d[['paymentReliability']])\n",
        "loan_d['paymentReliability'] = scaler.transform(loan_d[['paymentReliability']])\n",
        "loan_d.head()"
      ],
      "execution_count": 104,
      "outputs": [
        {
          "output_type": "execute_result",
          "data": {
            "text/html": [
              "<div>\n",
              "<style scoped>\n",
              "    .dataframe tbody tr th:only-of-type {\n",
              "        vertical-align: middle;\n",
              "    }\n",
              "\n",
              "    .dataframe tbody tr th {\n",
              "        vertical-align: top;\n",
              "    }\n",
              "\n",
              "    .dataframe thead th {\n",
              "        text-align: right;\n",
              "    }\n",
              "</style>\n",
              "<table border=\"1\" class=\"dataframe\">\n",
              "  <thead>\n",
              "    <tr style=\"text-align: right;\">\n",
              "      <th></th>\n",
              "      <th>loan_id</th>\n",
              "      <th>account_id</th>\n",
              "      <th>date</th>\n",
              "      <th>amount</th>\n",
              "      <th>duration</th>\n",
              "      <th>payments</th>\n",
              "      <th>status</th>\n",
              "      <th>balenceAsOfLastpayment</th>\n",
              "      <th>lastPaymentDate</th>\n",
              "      <th>numberofpayments</th>\n",
              "      <th>account_balance</th>\n",
              "      <th>paymentReliability</th>\n",
              "    </tr>\n",
              "  </thead>\n",
              "  <tbody>\n",
              "    <tr>\n",
              "      <th>0</th>\n",
              "      <td>5314</td>\n",
              "      <td>1787</td>\n",
              "      <td>930705</td>\n",
              "      <td>96396</td>\n",
              "      <td>12</td>\n",
              "      <td>8033.0</td>\n",
              "      <td>0.333333</td>\n",
              "      <td>64264.0</td>\n",
              "      <td>940612</td>\n",
              "      <td>4</td>\n",
              "      <td>35875.9</td>\n",
              "      <td>0.013337</td>\n",
              "    </tr>\n",
              "    <tr>\n",
              "      <th>1</th>\n",
              "      <td>5316</td>\n",
              "      <td>1801</td>\n",
              "      <td>930711</td>\n",
              "      <td>165960</td>\n",
              "      <td>36</td>\n",
              "      <td>4610.0</td>\n",
              "      <td>0.000000</td>\n",
              "      <td>0.0</td>\n",
              "      <td>960612</td>\n",
              "      <td>36</td>\n",
              "      <td>34161.7</td>\n",
              "      <td>0.020774</td>\n",
              "    </tr>\n",
              "    <tr>\n",
              "      <th>2</th>\n",
              "      <td>6863</td>\n",
              "      <td>9188</td>\n",
              "      <td>930728</td>\n",
              "      <td>127080</td>\n",
              "      <td>60</td>\n",
              "      <td>2118.0</td>\n",
              "      <td>0.000000</td>\n",
              "      <td>0.0</td>\n",
              "      <td>980712</td>\n",
              "      <td>60</td>\n",
              "      <td>22758.5</td>\n",
              "      <td>0.020774</td>\n",
              "    </tr>\n",
              "    <tr>\n",
              "      <th>3</th>\n",
              "      <td>5325</td>\n",
              "      <td>1843</td>\n",
              "      <td>930803</td>\n",
              "      <td>105804</td>\n",
              "      <td>36</td>\n",
              "      <td>2939.0</td>\n",
              "      <td>0.000000</td>\n",
              "      <td>0.0</td>\n",
              "      <td>960712</td>\n",
              "      <td>36</td>\n",
              "      <td>49935.4</td>\n",
              "      <td>0.020774</td>\n",
              "    </tr>\n",
              "    <tr>\n",
              "      <th>4</th>\n",
              "      <td>7240</td>\n",
              "      <td>11013</td>\n",
              "      <td>930906</td>\n",
              "      <td>274740</td>\n",
              "      <td>60</td>\n",
              "      <td>4579.0</td>\n",
              "      <td>0.000000</td>\n",
              "      <td>0.0</td>\n",
              "      <td>980812</td>\n",
              "      <td>60</td>\n",
              "      <td>37523.2</td>\n",
              "      <td>0.020774</td>\n",
              "    </tr>\n",
              "  </tbody>\n",
              "</table>\n",
              "</div>"
            ],
            "text/plain": [
              "   loan_id  account_id  ...  account_balance  paymentReliability\n",
              "0     5314        1787  ...          35875.9            0.013337\n",
              "1     5316        1801  ...          34161.7            0.020774\n",
              "2     6863        9188  ...          22758.5            0.020774\n",
              "3     5325        1843  ...          49935.4            0.020774\n",
              "4     7240       11013  ...          37523.2            0.020774\n",
              "\n",
              "[5 rows x 12 columns]"
            ]
          },
          "metadata": {
            "tags": []
          },
          "execution_count": 104
        }
      ]
    },
    {
      "cell_type": "code",
      "metadata": {
        "id": "OpTNYr6NtXz4",
        "colab_type": "code",
        "colab": {
          "base_uri": "https://localhost:8080/",
          "height": 295
        },
        "outputId": "fd980ed1-f9b6-43c9-e713-67f801642c91"
      },
      "source": [
        "from sklearn.cluster import KMeans\n",
        "\n",
        "wcss = []\n",
        "for i in range(1, 25):\n",
        "    kmeans = KMeans(n_clusters=i, init='k-means++', max_iter=300, n_init=10, random_state=0)\n",
        "    kmeans.fit(loan_d[['status','paymentReliability']])\n",
        "    wcss.append(kmeans.inertia_)\n",
        "plt.plot( wcss, 'ro-', label=\"WCSS\")\n",
        "plt.title('Elbow Method')\n",
        "plt.xlabel('Number of clusters')\n",
        "plt.ylabel('WCSS')\n",
        "plt.show()"
      ],
      "execution_count": 105,
      "outputs": [
        {
          "output_type": "display_data",
          "data": {
            "image/png": "[encoded data removed]",
            "text/plain": [
              "<Figure size 432x288 with 1 Axes>"
            ]
          },
          "metadata": {
            "tags": [],
            "needs_background": "light"
          }
        }
      ]
    },
    {
      "cell_type": "code",
      "metadata": {
        "id": "v52HuKRoub4d",
        "colab_type": "code",
        "colab": {
          "base_uri": "https://localhost:8080/",
          "height": 85
        },
        "outputId": "89b1bcc0-26ac-4f76-a53c-43d14749bf3d"
      },
      "source": [
        "kmeans = KMeans(n_clusters=4, init=\"k-means++\", n_init=10, max_iter=300) \n",
        "y_pred = kmeans.fit_predict(loan_d[['status','paymentReliability']])\n",
        "\n",
        "loan_d[\"kcluster\"] = 4 - y_pred\n",
        "loan_d.head()\n",
        "kmeans.cluster_centers_"
      ],
      "execution_count": 106,
      "outputs": [
        {
          "output_type": "execute_result",
          "data": {
            "text/plain": [
              "array([[6.66666667e-01, 3.84728723e-02],\n",
              "       [2.16493490e-15, 2.11247192e-02],\n",
              "       [3.33333333e-01, 4.78521723e-02],\n",
              "       [1.00000000e+00, 2.11174728e-02]])"
            ]
          },
          "metadata": {
            "tags": []
          },
          "execution_count": 106
        }
      ]
    },
    {
      "cell_type": "code",
      "metadata": {
        "id": "atVJziLyvGNL",
        "colab_type": "code",
        "colab": {
          "base_uri": "https://localhost:8080/",
          "height": 296
        },
        "outputId": "42c9b5a0-1af7-42c7-f4a2-8b57c14532fe"
      },
      "source": [
        "sns.countplot(x='kcluster',hue='kcluster',data=loan_d)"
      ],
      "execution_count": 107,
      "outputs": [
        {
          "output_type": "execute_result",
          "data": {
            "text/plain": [
              "<matplotlib.axes._subplots.AxesSubplot at 0x7f129c5bd048>"
            ]
          },
          "metadata": {
            "tags": []
          },
          "execution_count": 107
        },
        {
          "output_type": "display_data",
          "data": {
            "image/png": "[encoded data removed]",
            "text/plain": [
              "<Figure size 432x288 with 1 Axes>"
            ]
          },
          "metadata": {
            "tags": [],
            "needs_background": "light"
          }
        }
      ]
    },
    {
      "cell_type": "code",
      "metadata": {
        "id": "Qlzw5tF54G3M",
        "colab_type": "code",
        "colab": {
          "base_uri": "https://localhost:8080/",
          "height": 224
        },
        "outputId": "ec952b8e-2183-4d0c-b572-97d696b61db5"
      },
      "source": [
        "loan_d.head()"
      ],
      "execution_count": 108,
      "outputs": [
        {
          "output_type": "execute_result",
          "data": {
            "text/html": [
              "<div>\n",
              "<style scoped>\n",
              "    .dataframe tbody tr th:only-of-type {\n",
              "        vertical-align: middle;\n",
              "    }\n",
              "\n",
              "    .dataframe tbody tr th {\n",
              "        vertical-align: top;\n",
              "    }\n",
              "\n",
              "    .dataframe thead th {\n",
              "        text-align: right;\n",
              "    }\n",
              "</style>\n",
              "<table border=\"1\" class=\"dataframe\">\n",
              "  <thead>\n",
              "    <tr style=\"text-align: right;\">\n",
              "      <th></th>\n",
              "      <th>loan_id</th>\n",
              "      <th>account_id</th>\n",
              "      <th>date</th>\n",
              "      <th>amount</th>\n",
              "      <th>duration</th>\n",
              "      <th>payments</th>\n",
              "      <th>status</th>\n",
              "      <th>balenceAsOfLastpayment</th>\n",
              "      <th>lastPaymentDate</th>\n",
              "      <th>numberofpayments</th>\n",
              "      <th>account_balance</th>\n",
              "      <th>paymentReliability</th>\n",
              "      <th>kcluster</th>\n",
              "    </tr>\n",
              "  </thead>\n",
              "  <tbody>\n",
              "    <tr>\n",
              "      <th>0</th>\n",
              "      <td>5314</td>\n",
              "      <td>1787</td>\n",
              "      <td>930705</td>\n",
              "      <td>96396</td>\n",
              "      <td>12</td>\n",
              "      <td>8033.0</td>\n",
              "      <td>0.333333</td>\n",
              "      <td>64264.0</td>\n",
              "      <td>940612</td>\n",
              "      <td>4</td>\n",
              "      <td>35875.9</td>\n",
              "      <td>0.013337</td>\n",
              "      <td>2</td>\n",
              "    </tr>\n",
              "    <tr>\n",
              "      <th>1</th>\n",
              "      <td>5316</td>\n",
              "      <td>1801</td>\n",
              "      <td>930711</td>\n",
              "      <td>165960</td>\n",
              "      <td>36</td>\n",
              "      <td>4610.0</td>\n",
              "      <td>0.000000</td>\n",
              "      <td>0.0</td>\n",
              "      <td>960612</td>\n",
              "      <td>36</td>\n",
              "      <td>34161.7</td>\n",
              "      <td>0.020774</td>\n",
              "      <td>3</td>\n",
              "    </tr>\n",
              "    <tr>\n",
              "      <th>2</th>\n",
              "      <td>6863</td>\n",
              "      <td>9188</td>\n",
              "      <td>930728</td>\n",
              "      <td>127080</td>\n",
              "      <td>60</td>\n",
              "      <td>2118.0</td>\n",
              "      <td>0.000000</td>\n",
              "      <td>0.0</td>\n",
              "      <td>980712</td>\n",
              "      <td>60</td>\n",
              "      <td>22758.5</td>\n",
              "      <td>0.020774</td>\n",
              "      <td>3</td>\n",
              "    </tr>\n",
              "    <tr>\n",
              "      <th>3</th>\n",
              "      <td>5325</td>\n",
              "      <td>1843</td>\n",
              "      <td>930803</td>\n",
              "      <td>105804</td>\n",
              "      <td>36</td>\n",
              "      <td>2939.0</td>\n",
              "      <td>0.000000</td>\n",
              "      <td>0.0</td>\n",
              "      <td>960712</td>\n",
              "      <td>36</td>\n",
              "      <td>49935.4</td>\n",
              "      <td>0.020774</td>\n",
              "      <td>3</td>\n",
              "    </tr>\n",
              "    <tr>\n",
              "      <th>4</th>\n",
              "      <td>7240</td>\n",
              "      <td>11013</td>\n",
              "      <td>930906</td>\n",
              "      <td>274740</td>\n",
              "      <td>60</td>\n",
              "      <td>4579.0</td>\n",
              "      <td>0.000000</td>\n",
              "      <td>0.0</td>\n",
              "      <td>980812</td>\n",
              "      <td>60</td>\n",
              "      <td>37523.2</td>\n",
              "      <td>0.020774</td>\n",
              "      <td>3</td>\n",
              "    </tr>\n",
              "  </tbody>\n",
              "</table>\n",
              "</div>"
            ],
            "text/plain": [
              "   loan_id  account_id    date  ...  account_balance  paymentReliability  kcluster\n",
              "0     5314        1787  930705  ...          35875.9            0.013337         2\n",
              "1     5316        1801  930711  ...          34161.7            0.020774         3\n",
              "2     6863        9188  930728  ...          22758.5            0.020774         3\n",
              "3     5325        1843  930803  ...          49935.4            0.020774         3\n",
              "4     7240       11013  930906  ...          37523.2            0.020774         3\n",
              "\n",
              "[5 rows x 13 columns]"
            ]
          },
          "metadata": {
            "tags": []
          },
          "execution_count": 108
        }
      ]
    },
    {
      "cell_type": "code",
      "metadata": {
        "id": "K3-tIoYixbrA",
        "colab_type": "code",
        "colab": {
          "base_uri": "https://localhost:8080/",
          "height": 296
        },
        "outputId": "c4b6bb75-7754-46ce-86f4-d30bbccbb20a"
      },
      "source": [
        "cl1 = loan_d[loan_d.kcluster == 1]\n",
        "cl2 = loan_d[loan_d.kcluster == 2]\n",
        "cl3 = loan_d[loan_d.kcluster == 3]\n",
        "cl4 = loan_d[loan_d.kcluster == 4]\n",
        "cl5 = loan_d[loan_d.kcluster == 5]\n",
        "plt.scatter(cl1.status,cl1.paymentReliability,color='green')\n",
        "plt.scatter(cl2.status,cl2.paymentReliability,color='red')\n",
        "plt.scatter(cl3.status,cl3.paymentReliability,color='yellow')\n",
        "plt.scatter(cl4.status,cl4.paymentReliability,color='blue')\n",
        "plt.scatter(cl5.status,cl5.paymentReliability,color='orange')\n",
        "plt.scatter(kmeans.cluster_centers_[:,0],kmeans.cluster_centers_[:,1],color='purple',marker='*',label='centroid')\n",
        "plt.xlabel('status')\n",
        "plt.ylabel('payment_reliability')\n",
        "plt.legend()"
      ],
      "execution_count": 109,
      "outputs": [
        {
          "output_type": "execute_result",
          "data": {
            "text/plain": [
              "<matplotlib.legend.Legend at 0x7f129c023780>"
            ]
          },
          "metadata": {
            "tags": []
          },
          "execution_count": 109
        },
        {
          "output_type": "display_data",
          "data": {
            "image/png": "[encoded data removed]",
            "text/plain": [
              "<Figure size 432x288 with 1 Axes>"
            ]
          },
          "metadata": {
            "tags": [],
            "needs_background": "light"
          }
        }
      ]
    },
    {
      "cell_type": "code",
      "metadata": {
        "id": "rFFWmKyr6Xf6",
        "colab_type": "code",
        "colab": {
          "base_uri": "https://localhost:8080/",
          "height": 369
        },
        "outputId": "6880a52d-7904-4b33-9914-0eb414a45b86"
      },
      "source": [
        "sns.lmplot(\"status\",\"paymentReliability\", data=loan_d, hue='kcluster', fit_reg=False)\n",
        "plt.show()"
      ],
      "execution_count": 110,
      "outputs": [
        {
          "output_type": "display_data",
          "data": {
            "image/png": "[encoded data removed]",
            "text/plain": [
              "<Figure size 407.875x360 with 1 Axes>"
            ]
          },
          "metadata": {
            "tags": [],
            "needs_background": "light"
          }
        }
      ]
    },
    {
      "cell_type": "code",
      "metadata": {
        "id": "dm-a5esAPwzR",
        "colab_type": "code",
        "colab": {
          "base_uri": "https://localhost:8080/",
          "height": 34
        },
        "outputId": "d7c33f5b-2ae3-493d-83c0-c2a23705f5bf"
      },
      "source": [
        "from sklearn import metrics\n",
        "print(\"Silhouette score for {} clusters k-means : {} \".format(4,metrics.silhouette_score(loan_d[['status','paymentReliability']],y_pred, metric='euclidean').round(3)))"
      ],
      "execution_count": 111,
      "outputs": [
        {
          "output_type": "stream",
          "text": [
            "Silhouette score for 4 clusters k-means : 0.912 \n"
          ],
          "name": "stdout"
        }
      ]
    },
    {
      "cell_type": "code",
      "metadata": {
        "id": "aFJGpCPLQP9Y",
        "colab_type": "code",
        "colab": {
          "base_uri": "https://localhost:8080/",
          "height": 224
        },
        "outputId": "9d07b4e5-bcaa-488b-da16-55fc8eafa1e3"
      },
      "source": [
        "#Bigger cluster is 4.Applying Kmeans for the bigger cluster\n",
        "fractal1_loan = loan_d.loc[loan_d['kcluster'] == 4]\n",
        "fractal1_loan.head()"
      ],
      "execution_count": 112,
      "outputs": [
        {
          "output_type": "execute_result",
          "data": {
            "text/html": [
              "<div>\n",
              "<style scoped>\n",
              "    .dataframe tbody tr th:only-of-type {\n",
              "        vertical-align: middle;\n",
              "    }\n",
              "\n",
              "    .dataframe tbody tr th {\n",
              "        vertical-align: top;\n",
              "    }\n",
              "\n",
              "    .dataframe thead th {\n",
              "        text-align: right;\n",
              "    }\n",
              "</style>\n",
              "<table border=\"1\" class=\"dataframe\">\n",
              "  <thead>\n",
              "    <tr style=\"text-align: right;\">\n",
              "      <th></th>\n",
              "      <th>loan_id</th>\n",
              "      <th>account_id</th>\n",
              "      <th>date</th>\n",
              "      <th>amount</th>\n",
              "      <th>duration</th>\n",
              "      <th>payments</th>\n",
              "      <th>status</th>\n",
              "      <th>balenceAsOfLastpayment</th>\n",
              "      <th>lastPaymentDate</th>\n",
              "      <th>numberofpayments</th>\n",
              "      <th>account_balance</th>\n",
              "      <th>paymentReliability</th>\n",
              "      <th>kcluster</th>\n",
              "    </tr>\n",
              "  </thead>\n",
              "  <tbody>\n",
              "    <tr>\n",
              "      <th>23</th>\n",
              "      <td>5170</td>\n",
              "      <td>1071</td>\n",
              "      <td>940120</td>\n",
              "      <td>253200</td>\n",
              "      <td>60</td>\n",
              "      <td>4220.0</td>\n",
              "      <td>0.666667</td>\n",
              "      <td>4220.0</td>\n",
              "      <td>981212</td>\n",
              "      <td>59</td>\n",
              "      <td>27506.5</td>\n",
              "      <td>0.113685</td>\n",
              "      <td>4</td>\n",
              "    </tr>\n",
              "    <tr>\n",
              "      <th>30</th>\n",
              "      <td>6087</td>\n",
              "      <td>5313</td>\n",
              "      <td>940227</td>\n",
              "      <td>300660</td>\n",
              "      <td>60</td>\n",
              "      <td>5011.0</td>\n",
              "      <td>0.666667</td>\n",
              "      <td>10022.0</td>\n",
              "      <td>981212</td>\n",
              "      <td>58</td>\n",
              "      <td>29413.1</td>\n",
              "      <td>0.053352</td>\n",
              "      <td>4</td>\n",
              "    </tr>\n",
              "    <tr>\n",
              "      <th>38</th>\n",
              "      <td>7055</td>\n",
              "      <td>10079</td>\n",
              "      <td>940406</td>\n",
              "      <td>167100</td>\n",
              "      <td>60</td>\n",
              "      <td>2785.0</td>\n",
              "      <td>0.666667</td>\n",
              "      <td>8355.0</td>\n",
              "      <td>981212</td>\n",
              "      <td>57</td>\n",
              "      <td>22259.2</td>\n",
              "      <td>0.048795</td>\n",
              "      <td>4</td>\n",
              "    </tr>\n",
              "    <tr>\n",
              "      <th>39</th>\n",
              "      <td>6103</td>\n",
              "      <td>5385</td>\n",
              "      <td>940407</td>\n",
              "      <td>149340</td>\n",
              "      <td>60</td>\n",
              "      <td>2489.0</td>\n",
              "      <td>0.666667</td>\n",
              "      <td>7467.0</td>\n",
              "      <td>981212</td>\n",
              "      <td>57</td>\n",
              "      <td>44819.6</td>\n",
              "      <td>0.105001</td>\n",
              "      <td>4</td>\n",
              "    </tr>\n",
              "    <tr>\n",
              "      <th>42</th>\n",
              "      <td>6696</td>\n",
              "      <td>8321</td>\n",
              "      <td>940509</td>\n",
              "      <td>89040</td>\n",
              "      <td>60</td>\n",
              "      <td>1484.0</td>\n",
              "      <td>0.666667</td>\n",
              "      <td>5936.0</td>\n",
              "      <td>981212</td>\n",
              "      <td>56</td>\n",
              "      <td>60181.0</td>\n",
              "      <td>0.174640</td>\n",
              "      <td>4</td>\n",
              "    </tr>\n",
              "  </tbody>\n",
              "</table>\n",
              "</div>"
            ],
            "text/plain": [
              "    loan_id  account_id    date  ...  account_balance  paymentReliability  kcluster\n",
              "23     5170        1071  940120  ...          27506.5            0.113685         4\n",
              "30     6087        5313  940227  ...          29413.1            0.053352         4\n",
              "38     7055       10079  940406  ...          22259.2            0.048795         4\n",
              "39     6103        5385  940407  ...          44819.6            0.105001         4\n",
              "42     6696        8321  940509  ...          60181.0            0.174640         4\n",
              "\n",
              "[5 rows x 13 columns]"
            ]
          },
          "metadata": {
            "tags": []
          },
          "execution_count": 112
        }
      ]
    },
    {
      "cell_type": "code",
      "metadata": {
        "id": "Ox2t2LVTR52L",
        "colab_type": "code",
        "colab": {
          "base_uri": "https://localhost:8080/",
          "height": 295
        },
        "outputId": "89214bb9-4c92-4ee7-b8fe-b7aad2b40aad"
      },
      "source": [
        "from sklearn.cluster import KMeans\n",
        "\n",
        "wcss = []\n",
        "for i in range(1, 25):\n",
        "    kmeans = KMeans(n_clusters=i, init='k-means++', max_iter=300, n_init=10, random_state=0)\n",
        "    kmeans.fit(fractal1_loan[['status','paymentReliability']])\n",
        "    wcss.append(kmeans.inertia_)\n",
        "plt.plot( wcss, 'ro-', label=\"WCSS\")\n",
        "plt.title('Elbow Method')\n",
        "plt.xlabel('Number of clusters')\n",
        "plt.ylabel('WCSS')\n",
        "plt.show()"
      ],
      "execution_count": 113,
      "outputs": [
        {
          "output_type": "display_data",
          "data": {
            "image/png": "[encoded data removed]",
            "text/plain": [
              "<Figure size 432x288 with 1 Axes>"
            ]
          },
          "metadata": {
            "tags": [],
            "needs_background": "light"
          }
        }
      ]
    },
    {
      "cell_type": "code",
      "metadata": {
        "id": "7nurA-MGT2Rs",
        "colab_type": "code",
        "colab": {
          "base_uri": "https://localhost:8080/",
          "height": 224
        },
        "outputId": "610efd3d-40ea-4c45-a6fc-aedcaab5f05e"
      },
      "source": [
        "kmeans = KMeans(n_clusters=5, init=\"k-means++\", n_init=10, max_iter=300) \n",
        "y_pred = kmeans.fit_predict(fractal1_loan[['status','paymentReliability']])\n",
        "\n",
        "fractal1_loan[\"kcluster\"] = 5 - y_pred\n",
        "loan_d.head()\n",
        "kmeans.cluster_centers_"
      ],
      "execution_count": 114,
      "outputs": [
        {
          "output_type": "stream",
          "text": [
            "/usr/local/lib/python3.6/dist-packages/ipykernel_launcher.py:4: SettingWithCopyWarning: \n",
            "A value is trying to be set on a copy of a slice from a DataFrame.\n",
            "Try using .loc[row_indexer,col_indexer] = value instead\n",
            "\n",
            "See the caveats in the documentation: https://pandas.pydata.org/pandas-docs/stable/user_guide/indexing.html#returning-a-view-versus-a-copy\n",
            "  after removing the cwd from sys.path.\n"
          ],
          "name": "stderr"
        },
        {
          "output_type": "execute_result",
          "data": {
            "text/plain": [
              "array([[0.66666667, 0.19180534],\n",
              "       [0.66666667, 0.01643436],\n",
              "       [0.66666667, 0.93236467],\n",
              "       [0.66666667, 0.07685411],\n",
              "       [0.66666667, 0.43988579]])"
            ]
          },
          "metadata": {
            "tags": []
          },
          "execution_count": 114
        }
      ]
    },
    {
      "cell_type": "code",
      "metadata": {
        "id": "SvS1_v-xUTU1",
        "colab_type": "code",
        "colab": {
          "base_uri": "https://localhost:8080/",
          "height": 369
        },
        "outputId": "e1c097a0-23b9-4c04-c623-94db471e5b57"
      },
      "source": [
        "sns.lmplot(\"status\",\"paymentReliability\", data=fractal1_loan, hue='kcluster', fit_reg=False)\n",
        "plt.show()"
      ],
      "execution_count": 115,
      "outputs": [
        {
          "output_type": "display_data",
          "data": {
            "image/png": "[encoded data removed]",
            "text/plain": [
              "<Figure size 407.875x360 with 1 Axes>"
            ]
          },
          "metadata": {
            "tags": [],
            "needs_background": "light"
          }
        }
      ]
    },
    {
      "cell_type": "code",
      "metadata": {
        "id": "IjsOUjUvU3c2",
        "colab_type": "code",
        "colab": {
          "base_uri": "https://localhost:8080/",
          "height": 296
        },
        "outputId": "f8b6ae2a-df74-43cb-ae86-25327e52c107"
      },
      "source": [
        "sns.countplot(x='kcluster',hue='kcluster',data=fractal1_loan)"
      ],
      "execution_count": 116,
      "outputs": [
        {
          "output_type": "execute_result",
          "data": {
            "text/plain": [
              "<matplotlib.axes._subplots.AxesSubplot at 0x7f129bebbe80>"
            ]
          },
          "metadata": {
            "tags": []
          },
          "execution_count": 116
        },
        {
          "output_type": "display_data",
          "data": {
            "image/png": "[encoded data removed]",
            "text/plain": [
              "<Figure size 432x288 with 1 Axes>"
            ]
          },
          "metadata": {
            "tags": [],
            "needs_background": "light"
          }
        }
      ]
    },
    {
      "cell_type": "code",
      "metadata": {
        "id": "wXPUKR9kYAqM",
        "colab_type": "code",
        "colab": {
          "base_uri": "https://localhost:8080/",
          "height": 34
        },
        "outputId": "322880b5-8770-4e1a-c6f6-09968be6d491"
      },
      "source": [
        "print(\"Silhouette score for {} clusters k-means : {} \".format(5,metrics.silhouette_score(fractal1_loan[['status','paymentReliability']],y_pred, metric='euclidean').round(3)))"
      ],
      "execution_count": 117,
      "outputs": [
        {
          "output_type": "stream",
          "text": [
            "Silhouette score for 5 clusters k-means : 0.752 \n"
          ],
          "name": "stdout"
        }
      ]
    },
    {
      "cell_type": "code",
      "metadata": {
        "id": "MZ2YvDHQYmal",
        "colab_type": "code",
        "colab": {
          "base_uri": "https://localhost:8080/",
          "height": 224
        },
        "outputId": "25d6846a-23b2-497f-95c5-16980d828b92"
      },
      "source": [
        "#2nd Fractal cluster\n",
        "fractal2_loan = fractal1_loan.loc[fractal1_loan['kcluster'] == 4]\n",
        "fractal2_loan.head()\n"
      ],
      "execution_count": 118,
      "outputs": [
        {
          "output_type": "execute_result",
          "data": {
            "text/html": [
              "<div>\n",
              "<style scoped>\n",
              "    .dataframe tbody tr th:only-of-type {\n",
              "        vertical-align: middle;\n",
              "    }\n",
              "\n",
              "    .dataframe tbody tr th {\n",
              "        vertical-align: top;\n",
              "    }\n",
              "\n",
              "    .dataframe thead th {\n",
              "        text-align: right;\n",
              "    }\n",
              "</style>\n",
              "<table border=\"1\" class=\"dataframe\">\n",
              "  <thead>\n",
              "    <tr style=\"text-align: right;\">\n",
              "      <th></th>\n",
              "      <th>loan_id</th>\n",
              "      <th>account_id</th>\n",
              "      <th>date</th>\n",
              "      <th>amount</th>\n",
              "      <th>duration</th>\n",
              "      <th>payments</th>\n",
              "      <th>status</th>\n",
              "      <th>balenceAsOfLastpayment</th>\n",
              "      <th>lastPaymentDate</th>\n",
              "      <th>numberofpayments</th>\n",
              "      <th>account_balance</th>\n",
              "      <th>paymentReliability</th>\n",
              "      <th>kcluster</th>\n",
              "    </tr>\n",
              "  </thead>\n",
              "  <tbody>\n",
              "    <tr>\n",
              "      <th>45</th>\n",
              "      <td>5568</td>\n",
              "      <td>2933</td>\n",
              "      <td>940517</td>\n",
              "      <td>272520</td>\n",
              "      <td>60</td>\n",
              "      <td>4542.0</td>\n",
              "      <td>0.666667</td>\n",
              "      <td>22710.0</td>\n",
              "      <td>981212</td>\n",
              "      <td>55</td>\n",
              "      <td>30914.4</td>\n",
              "      <td>0.026857</td>\n",
              "      <td>4</td>\n",
              "    </tr>\n",
              "    <tr>\n",
              "      <th>61</th>\n",
              "      <td>6736</td>\n",
              "      <td>8558</td>\n",
              "      <td>940614</td>\n",
              "      <td>288360</td>\n",
              "      <td>60</td>\n",
              "      <td>4806.0</td>\n",
              "      <td>0.666667</td>\n",
              "      <td>28836.0</td>\n",
              "      <td>981212</td>\n",
              "      <td>54</td>\n",
              "      <td>27799.0</td>\n",
              "      <td>0.020169</td>\n",
              "      <td>4</td>\n",
              "    </tr>\n",
              "    <tr>\n",
              "      <th>63</th>\n",
              "      <td>5319</td>\n",
              "      <td>1811</td>\n",
              "      <td>940623</td>\n",
              "      <td>239460</td>\n",
              "      <td>60</td>\n",
              "      <td>3991.0</td>\n",
              "      <td>0.666667</td>\n",
              "      <td>23946.0</td>\n",
              "      <td>981212</td>\n",
              "      <td>54</td>\n",
              "      <td>43420.3</td>\n",
              "      <td>0.034468</td>\n",
              "      <td>4</td>\n",
              "    </tr>\n",
              "    <tr>\n",
              "      <th>65</th>\n",
              "      <td>5837</td>\n",
              "      <td>4260</td>\n",
              "      <td>940629</td>\n",
              "      <td>244560</td>\n",
              "      <td>60</td>\n",
              "      <td>4076.0</td>\n",
              "      <td>0.666667</td>\n",
              "      <td>24456.0</td>\n",
              "      <td>981212</td>\n",
              "      <td>54</td>\n",
              "      <td>54482.8</td>\n",
              "      <td>0.041447</td>\n",
              "      <td>4</td>\n",
              "    </tr>\n",
              "    <tr>\n",
              "      <th>114</th>\n",
              "      <td>5450</td>\n",
              "      <td>2345</td>\n",
              "      <td>941211</td>\n",
              "      <td>199680</td>\n",
              "      <td>60</td>\n",
              "      <td>3328.0</td>\n",
              "      <td>0.666667</td>\n",
              "      <td>36608.0</td>\n",
              "      <td>981212</td>\n",
              "      <td>49</td>\n",
              "      <td>20260.1</td>\n",
              "      <td>0.013255</td>\n",
              "      <td>4</td>\n",
              "    </tr>\n",
              "  </tbody>\n",
              "</table>\n",
              "</div>"
            ],
            "text/plain": [
              "     loan_id  account_id    date  ...  account_balance  paymentReliability  kcluster\n",
              "45      5568        2933  940517  ...          30914.4            0.026857         4\n",
              "61      6736        8558  940614  ...          27799.0            0.020169         4\n",
              "63      5319        1811  940623  ...          43420.3            0.034468         4\n",
              "65      5837        4260  940629  ...          54482.8            0.041447         4\n",
              "114     5450        2345  941211  ...          20260.1            0.013255         4\n",
              "\n",
              "[5 rows x 13 columns]"
            ]
          },
          "metadata": {
            "tags": []
          },
          "execution_count": 118
        }
      ]
    },
    {
      "cell_type": "code",
      "metadata": {
        "id": "LBuuPQiFY9I4",
        "colab_type": "code",
        "colab": {
          "base_uri": "https://localhost:8080/",
          "height": 295
        },
        "outputId": "f43f3742-c360-4174-f946-393ed5a64d1d"
      },
      "source": [
        "from sklearn.cluster import KMeans\n",
        "\n",
        "wcss = []\n",
        "for i in range(2, 25):\n",
        "    kmeans = KMeans(n_clusters=i, init='k-means++', max_iter=300, n_init=10, random_state=0)\n",
        "    kmeans.fit(fractal2_loan[['status','paymentReliability']])\n",
        "    wcss.append(kmeans.inertia_)\n",
        "plt.plot( wcss, 'ro-', label=\"WCSS\")\n",
        "plt.title('Elbow Method')\n",
        "plt.xlabel('Number of clusters')\n",
        "plt.ylabel('WCSS')\n",
        "plt.show()"
      ],
      "execution_count": 119,
      "outputs": [
        {
          "output_type": "display_data",
          "data": {
            "image/png": "[encoded data removed]",
            "text/plain": [
              "<Figure size 432x288 with 1 Axes>"
            ]
          },
          "metadata": {
            "tags": [],
            "needs_background": "light"
          }
        }
      ]
    },
    {
      "cell_type": "code",
      "metadata": {
        "id": "1TQzVUAPaK1q",
        "colab_type": "code",
        "colab": {
          "base_uri": "https://localhost:8080/",
          "height": 207
        },
        "outputId": "866a9336-358c-46d0-fb2c-a2ded624d389"
      },
      "source": [
        "kmeans = KMeans(n_clusters=4, init=\"k-means++\", n_init=10, max_iter=300) \n",
        "y_pred = kmeans.fit_predict(fractal2_loan[['status','paymentReliability']])\n",
        "\n",
        "fractal2_loan[\"kcluster\"] = 4 - y_pred\n",
        "loan_d.head()\n",
        "kmeans.cluster_centers_"
      ],
      "execution_count": 120,
      "outputs": [
        {
          "output_type": "stream",
          "text": [
            "/usr/local/lib/python3.6/dist-packages/ipykernel_launcher.py:4: SettingWithCopyWarning: \n",
            "A value is trying to be set on a copy of a slice from a DataFrame.\n",
            "Try using .loc[row_indexer,col_indexer] = value instead\n",
            "\n",
            "See the caveats in the documentation: https://pandas.pydata.org/pandas-docs/stable/user_guide/indexing.html#returning-a-view-versus-a-copy\n",
            "  after removing the cwd from sys.path.\n"
          ],
          "name": "stderr"
        },
        {
          "output_type": "execute_result",
          "data": {
            "text/plain": [
              "array([[0.66666667, 0.0268825 ],\n",
              "       [0.66666667, 0.0091304 ],\n",
              "       [0.66666667, 0.01730198],\n",
              "       [0.66666667, 0.03766851]])"
            ]
          },
          "metadata": {
            "tags": []
          },
          "execution_count": 120
        }
      ]
    },
    {
      "cell_type": "code",
      "metadata": {
        "id": "CXst0adZaYMm",
        "colab_type": "code",
        "colab": {
          "base_uri": "https://localhost:8080/",
          "height": 369
        },
        "outputId": "c2914dc3-f469-4aba-ef3a-da1c300821bc"
      },
      "source": [
        "sns.lmplot(\"status\",\"paymentReliability\", data=fractal2_loan, hue='kcluster', fit_reg=False)\n",
        "plt.show()"
      ],
      "execution_count": 121,
      "outputs": [
        {
          "output_type": "display_data",
          "data": {
            "image/png": "[encoded data removed]",
            "text/plain": [
              "<Figure size 407.875x360 with 1 Axes>"
            ]
          },
          "metadata": {
            "tags": [],
            "needs_background": "light"
          }
        }
      ]
    },
    {
      "cell_type": "code",
      "metadata": {
        "id": "cr6GdAgMa_jH",
        "colab_type": "code",
        "colab": {
          "base_uri": "https://localhost:8080/",
          "height": 296
        },
        "outputId": "637aac3f-f760-4511-b888-33c8011e578e"
      },
      "source": [
        "sns.countplot(x='kcluster',hue='kcluster',data=fractal2_loan)"
      ],
      "execution_count": 122,
      "outputs": [
        {
          "output_type": "execute_result",
          "data": {
            "text/plain": [
              "<matplotlib.axes._subplots.AxesSubplot at 0x7f129bd20c50>"
            ]
          },
          "metadata": {
            "tags": []
          },
          "execution_count": 122
        },
        {
          "output_type": "display_data",
          "data": {
            "image/png": "[encoded data removed]",
            "text/plain": [
              "<Figure size 432x288 with 1 Axes>"
            ]
          },
          "metadata": {
            "tags": [],
            "needs_background": "light"
          }
        }
      ]
    },
    {
      "cell_type": "code",
      "metadata": {
        "id": "u3kMHQ3Qb089",
        "colab_type": "code",
        "colab": {
          "base_uri": "https://localhost:8080/",
          "height": 34
        },
        "outputId": "598e1dc0-fd47-4fd8-b533-0539b2b90047"
      },
      "source": [
        "print(\"Silhouette score for {} clusters k-means : {} \".format(4,metrics.silhouette_score(fractal2_loan[['status','paymentReliability']],y_pred, metric='euclidean').round(3)))"
      ],
      "execution_count": 123,
      "outputs": [
        {
          "output_type": "stream",
          "text": [
            "Silhouette score for 4 clusters k-means : 0.598 \n"
          ],
          "name": "stdout"
        }
      ]
    },
    {
      "cell_type": "code",
      "metadata": {
        "id": "ALjWlzyBf07Q",
        "colab_type": "code",
        "colab": {
          "base_uri": "https://localhost:8080/",
          "height": 224
        },
        "outputId": "21606a89-9736-48aa-c757-5dc57bf92f36"
      },
      "source": [
        "#3rd Fractal cluster\n",
        "fractal3_loan = fractal2_loan.loc[fractal2_loan['kcluster'] == 3]\n",
        "fractal3_loan.head()"
      ],
      "execution_count": 124,
      "outputs": [
        {
          "output_type": "execute_result",
          "data": {
            "text/html": [
              "<div>\n",
              "<style scoped>\n",
              "    .dataframe tbody tr th:only-of-type {\n",
              "        vertical-align: middle;\n",
              "    }\n",
              "\n",
              "    .dataframe tbody tr th {\n",
              "        vertical-align: top;\n",
              "    }\n",
              "\n",
              "    .dataframe thead th {\n",
              "        text-align: right;\n",
              "    }\n",
              "</style>\n",
              "<table border=\"1\" class=\"dataframe\">\n",
              "  <thead>\n",
              "    <tr style=\"text-align: right;\">\n",
              "      <th></th>\n",
              "      <th>loan_id</th>\n",
              "      <th>account_id</th>\n",
              "      <th>date</th>\n",
              "      <th>amount</th>\n",
              "      <th>duration</th>\n",
              "      <th>payments</th>\n",
              "      <th>status</th>\n",
              "      <th>balenceAsOfLastpayment</th>\n",
              "      <th>lastPaymentDate</th>\n",
              "      <th>numberofpayments</th>\n",
              "      <th>account_balance</th>\n",
              "      <th>paymentReliability</th>\n",
              "      <th>kcluster</th>\n",
              "    </tr>\n",
              "  </thead>\n",
              "  <tbody>\n",
              "    <tr>\n",
              "      <th>137</th>\n",
              "      <td>5132</td>\n",
              "      <td>817</td>\n",
              "      <td>950217</td>\n",
              "      <td>538500</td>\n",
              "      <td>60</td>\n",
              "      <td>8975.0</td>\n",
              "      <td>0.666667</td>\n",
              "      <td>125650.0</td>\n",
              "      <td>981212</td>\n",
              "      <td>46</td>\n",
              "      <td>50323.6</td>\n",
              "      <td>0.010680</td>\n",
              "      <td>3</td>\n",
              "    </tr>\n",
              "    <tr>\n",
              "      <th>164</th>\n",
              "      <td>6704</td>\n",
              "      <td>8377</td>\n",
              "      <td>950601</td>\n",
              "      <td>417060</td>\n",
              "      <td>60</td>\n",
              "      <td>6951.0</td>\n",
              "      <td>0.666667</td>\n",
              "      <td>118167.0</td>\n",
              "      <td>981212</td>\n",
              "      <td>43</td>\n",
              "      <td>42612.5</td>\n",
              "      <td>0.010009</td>\n",
              "      <td>3</td>\n",
              "    </tr>\n",
              "    <tr>\n",
              "      <th>184</th>\n",
              "      <td>7227</td>\n",
              "      <td>10942</td>\n",
              "      <td>951002</td>\n",
              "      <td>314520</td>\n",
              "      <td>60</td>\n",
              "      <td>5242.0</td>\n",
              "      <td>0.666667</td>\n",
              "      <td>115324.0</td>\n",
              "      <td>981212</td>\n",
              "      <td>38</td>\n",
              "      <td>37494.1</td>\n",
              "      <td>0.009411</td>\n",
              "      <td>3</td>\n",
              "    </tr>\n",
              "    <tr>\n",
              "      <th>189</th>\n",
              "      <td>7304</td>\n",
              "      <td>11349</td>\n",
              "      <td>951029</td>\n",
              "      <td>419880</td>\n",
              "      <td>60</td>\n",
              "      <td>6998.0</td>\n",
              "      <td>0.666667</td>\n",
              "      <td>153956.0</td>\n",
              "      <td>981212</td>\n",
              "      <td>38</td>\n",
              "      <td>60530.9</td>\n",
              "      <td>0.010557</td>\n",
              "      <td>3</td>\n",
              "    </tr>\n",
              "    <tr>\n",
              "      <th>206</th>\n",
              "      <td>6545</td>\n",
              "      <td>7606</td>\n",
              "      <td>951212</td>\n",
              "      <td>191880</td>\n",
              "      <td>60</td>\n",
              "      <td>3198.0</td>\n",
              "      <td>0.666667</td>\n",
              "      <td>73554.0</td>\n",
              "      <td>981212</td>\n",
              "      <td>37</td>\n",
              "      <td>25456.7</td>\n",
              "      <td>0.009764</td>\n",
              "      <td>3</td>\n",
              "    </tr>\n",
              "  </tbody>\n",
              "</table>\n",
              "</div>"
            ],
            "text/plain": [
              "     loan_id  account_id    date  ...  account_balance  paymentReliability  kcluster\n",
              "137     5132         817  950217  ...          50323.6            0.010680         3\n",
              "164     6704        8377  950601  ...          42612.5            0.010009         3\n",
              "184     7227       10942  951002  ...          37494.1            0.009411         3\n",
              "189     7304       11349  951029  ...          60530.9            0.010557         3\n",
              "206     6545        7606  951212  ...          25456.7            0.009764         3\n",
              "\n",
              "[5 rows x 13 columns]"
            ]
          },
          "metadata": {
            "tags": []
          },
          "execution_count": 124
        }
      ]
    },
    {
      "cell_type": "code",
      "metadata": {
        "id": "ROTvjGAAgamK",
        "colab_type": "code",
        "colab": {
          "base_uri": "https://localhost:8080/",
          "height": 295
        },
        "outputId": "cae0417d-fd55-4e33-e645-13f14a4cb332"
      },
      "source": [
        "wcss = []\n",
        "for i in range(1, 25):\n",
        "    kmeans = KMeans(n_clusters=i, init='k-means++', max_iter=300, n_init=10, random_state=0)\n",
        "    kmeans.fit(fractal3_loan[['status','paymentReliability']])\n",
        "    wcss.append(kmeans.inertia_)\n",
        "plt.plot( wcss, 'ro-', label=\"WCSS\")\n",
        "plt.title('Elbow Method')\n",
        "plt.xlabel('Number of clusters')\n",
        "plt.ylabel('WCSS')\n",
        "plt.show()"
      ],
      "execution_count": 125,
      "outputs": [
        {
          "output_type": "display_data",
          "data": {
            "image/png": "[encoded data removed]",
            "text/plain": [
              "<Figure size 432x288 with 1 Axes>"
            ]
          },
          "metadata": {
            "tags": [],
            "needs_background": "light"
          }
        }
      ]
    },
    {
      "cell_type": "code",
      "metadata": {
        "id": "oT0rlA_hgqmz",
        "colab_type": "code",
        "colab": {
          "base_uri": "https://localhost:8080/",
          "height": 207
        },
        "outputId": "5d436130-bc74-4860-d4eb-c9952b950d14"
      },
      "source": [
        "kmeans = KMeans(n_clusters=4, init=\"k-means++\", n_init=10, max_iter=300) \n",
        "y_pred = kmeans.fit_predict(fractal3_loan[['status','paymentReliability']])\n",
        "\n",
        "fractal3_loan[\"kcluster\"] = 4 - y_pred\n",
        "loan_d.head()\n",
        "kmeans.cluster_centers_"
      ],
      "execution_count": 126,
      "outputs": [
        {
          "output_type": "stream",
          "text": [
            "/usr/local/lib/python3.6/dist-packages/ipykernel_launcher.py:4: SettingWithCopyWarning: \n",
            "A value is trying to be set on a copy of a slice from a DataFrame.\n",
            "Try using .loc[row_indexer,col_indexer] = value instead\n",
            "\n",
            "See the caveats in the documentation: https://pandas.pydata.org/pandas-docs/stable/user_guide/indexing.html#returning-a-view-versus-a-copy\n",
            "  after removing the cwd from sys.path.\n"
          ],
          "name": "stderr"
        },
        {
          "output_type": "execute_result",
          "data": {
            "text/plain": [
              "array([[0.66666667, 0.01202967],\n",
              "       [0.66666667, 0.00807737],\n",
              "       [0.66666667, 0.01008342],\n",
              "       [0.66666667, 0.00585309]])"
            ]
          },
          "metadata": {
            "tags": []
          },
          "execution_count": 126
        }
      ]
    },
    {
      "cell_type": "code",
      "metadata": {
        "id": "p83El3X_hzBQ",
        "colab_type": "code",
        "colab": {
          "base_uri": "https://localhost:8080/",
          "height": 369
        },
        "outputId": "1e63adb8-e320-45b9-d985-b106c557b36f"
      },
      "source": [
        "sns.lmplot(\"status\",\"paymentReliability\", data=fractal3_loan, hue='kcluster', fit_reg=False)\n",
        "plt.show()"
      ],
      "execution_count": 127,
      "outputs": [
        {
          "output_type": "display_data",
          "data": {
            "image/png": "[encoded data removed]",
            "text/plain": [
              "<Figure size 407.875x360 with 1 Axes>"
            ]
          },
          "metadata": {
            "tags": [],
            "needs_background": "light"
          }
        }
      ]
    },
    {
      "cell_type": "code",
      "metadata": {
        "id": "8oKsRNBmi3yU",
        "colab_type": "code",
        "colab": {}
      },
      "source": [
        "fractal3_loan.to_csv('data_new_fractal3.csv')"
      ],
      "execution_count": 128,
      "outputs": []
    },
    {
      "cell_type": "code",
      "metadata": {
        "id": "VDrFRmdgiUV_",
        "colab_type": "code",
        "colab": {
          "base_uri": "https://localhost:8080/",
          "height": 34
        },
        "outputId": "95b44b43-d168-4661-f2c6-b04bbe9a9470"
      },
      "source": [
        "print(\"Silhouette score for {} clusters k-means : {} \".format(4,metrics.silhouette_score(fractal3_loan[['status','paymentReliability']],y_pred, metric='euclidean').round(3)))"
      ],
      "execution_count": 129,
      "outputs": [
        {
          "output_type": "stream",
          "text": [
            "Silhouette score for 4 clusters k-means : 0.581 \n"
          ],
          "name": "stdout"
        }
      ]
    },
    {
      "cell_type": "markdown",
      "metadata": {
        "id": "Or4yrbxHr66J",
        "colab_type": "text"
      },
      "source": [
        "After applying Fractal clustering for 3 times , we can notice that from the scatter plot we are getting status C in which the contract is running with no problem and high payment reliabilty.These customers are low risk for us to give any promotional offers."
      ]
    },
    {
      "cell_type": "markdown",
      "metadata": {
        "id": "DXF9V8Lyi8Bc",
        "colab_type": "text"
      },
      "source": [
        "How does this improve the interpretability of your model?\n",
        "\n",
        "**Cluster Interpretation**\n",
        "As I have done the scaling on the data 0.6 to 0.8 range falls into status 3.\n",
        "\n",
        "From the above scatter plot which represents the 3rd Fractral clustering - Which was recusrsively applied from the bigger cluster of initial dataframe loan_d\n",
        "\n",
        "Cluster 1 : It depicts that the loan contract is still running and the payment relaibility is less still because of his account balance which is less.So this customer group can be considered as unpredictable(depends on his next account balance)\n",
        "\n",
        "cluster 2:  It depicts that loan contract is still running and the customer in this group is paying a little extra what was expected (for example number of payments are more what was expected till last date).This group is considered to be on the safer group.\n",
        "\n",
        "Cluster 4: It depicts that loan contract is still running and the customer in this group is paying more what was expected till date(more compared to cluster 4 group).Hence this group falls on very good payment reliability.\n",
        "\n",
        "cluster 3: It depicts that loan contract is still running the customer in this group is paying on time.This group falls under a lower payment reliability.Payment reliability is better comapared to customers who falls in cluster1"
      ]
    },
    {
      "cell_type": "markdown",
      "metadata": {
        "id": "c3BrIGlts4mK",
        "colab_type": "text"
      },
      "source": [
        "How does it add value to your business case?\n",
        "\n",
        "With latent manifold variable \"Payment Reliability\", our business use case that is to analyze the transaction behaviour and predict the loan risk will improve with payment relaibilty.It helps to see how customers are frequently paying the money what was expected to pay.So,it is the imprtant factor which can help us to decide the payment relaibility of a person and aid our business case whether the person falls into loan risk or not.\n",
        " "
      ]
    }
  ]
}